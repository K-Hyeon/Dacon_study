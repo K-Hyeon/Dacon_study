{
 "cells": [
  {
   "cell_type": "code",
   "execution_count": 1,
   "metadata": {},
   "outputs": [],
   "source": [
    "import numpy as np\n",
    "import matplotlib.pyplot as plt"
   ]
  },
  {
   "cell_type": "markdown",
   "metadata": {},
   "source": [
    "### 1번 문제: Probability Mass function(PMF)"
   ]
  },
  {
   "cell_type": "code",
   "execution_count": 2,
   "metadata": {},
   "outputs": [
    {
     "name": "stdout",
     "output_type": "stream",
     "text": [
      "{'Space': 1, 'Reality': 2, 'Mind': 3, 'Time': 4, 'Power': 5, 'Soul': 6}\n"
     ]
    }
   ],
   "source": [
    "stones = ['Space', 'Reality', 'Mind', 'Time', 'Power', 'Soul']\n",
    "stones_scores = dict(zip(stones, range(1, 7))) # {'Space': 1, 'Reality': 2, 'Mind': 3, 'Time': 4, 'Power': 5, 'Soul': 6}\n",
    "print(stones_scores)\n",
    "\n",
    "### start ###"
   ]
  },
  {
   "cell_type": "code",
   "execution_count": 3,
   "metadata": {},
   "outputs": [],
   "source": [
    "board = [[0]*6 for _ in range(6)]\n",
    "for i in range(6):\n",
    "    for j in range(6):\n",
    "        board[i][j] = list(stones_scores.values())[i] + list(stones_scores.values())[j]"
   ]
  },
  {
   "cell_type": "code",
   "execution_count": 4,
   "metadata": {},
   "outputs": [],
   "source": [
    "# Probability Mass Function: 이산형 확률 분포\n",
    "def PMF(sample_space):\n",
    "    board = [[0]*6 for _ in range(6)]\n",
    "    for i in range(6):\n",
    "        for j in range(6):\n",
    "            board[i][j] = list(stones_scores.values())[i] + list(stones_scores.values())[j]\n",
    "    \n",
    "    count = 0\n",
    "    for i in range(6):\n",
    "        for j in range(6):\n",
    "            if board[i][j] == sample_space:\n",
    "                count += 1\n",
    "            else:\n",
    "                continue\n",
    "    return count / 36"
   ]
  },
  {
   "cell_type": "code",
   "execution_count": 5,
   "metadata": {},
   "outputs": [
    {
     "data": {
      "image/png": "[encoded data removed]",
      "text/plain": [
       "<Figure size 432x288 with 2 Axes>"
      ]
     },
     "metadata": {
      "needs_background": "light"
     },
     "output_type": "display_data"
    }
   ],
   "source": [
    "def All_Probability():\n",
    "    array = []\n",
    "    labels = []\n",
    "    for i in range(2, 13):\n",
    "        array.append(PMF(i))\n",
    "        labels.append(i)\n",
    "    \n",
    "    # 왼쪽 y축\n",
    "    plt.ylim(0, 1)\n",
    "    plt.twinx()\n",
    "    # 오른쪽 y축\n",
    "    plt.ylim(0, 0.2)\n",
    "    plt.bar(labels, array, color='pink')\n",
    "    plt.title('Probability Mass Function')\n",
    "    plt.show()\n",
    "All_Probability()"
   ]
  },
  {
   "cell_type": "markdown",
   "metadata": {},
   "source": [
    "### 2번 문제: PMF estimation"
   ]
  },
  {
   "cell_type": "code",
   "execution_count": 464,
   "metadata": {},
   "outputs": [],
   "source": [
    "def gen_data(func): # 입력된 PMF를 기반으로 data를 생성하는 함수\n",
    "    num_data=10000\n",
    "    x = np.linspace(0,99,100)\n",
    "    \n",
    "    # func의 argument는 수정 가능\n",
    "    p = func(x)\n",
    "    \n",
    "    error= 1-np.sum(p)\n",
    "    if error<0.1 and error >= 0:\n",
    "        p+=error/len(p)\n",
    "    else:\n",
    "        print(\"error:\",error,\" p의 총합이 1이 안됩니다.\")\n",
    "        return -100\n",
    "    \n",
    "    g_data = np.random.choice(x,num_data,p=p,replace=True)\n",
    "    return g_data\n",
    "\n",
    "def test(data, func):\n",
    "    error=0\n",
    "    test_num = 1000\n",
    "    for i in range(test_num):\n",
    "        error += np.mean(np.abs(np.sort(data)-np.sort(gen_data(func))))\n",
    "    \n",
    "    print(\"error:\",error/test_num)\n",
    "    return "
   ]
  },
  {
   "cell_type": "code",
   "execution_count": 465,
   "metadata": {},
   "outputs": [
    {
     "data": {
      "image/png": "[encoded data removed]",
      "text/plain": [
       "<Figure size 432x288 with 1 Axes>"
      ]
     },
     "metadata": {
      "needs_background": "light"
     },
     "output_type": "display_data"
    }
   ],
   "source": [
    "data = np.load(\"data.npy\")\n",
    "_ = plt.hist(data, 100, density=True)"
   ]
  },
  {
   "cell_type": "code",
   "execution_count": 466,
   "metadata": {
    "scrolled": true
   },
   "outputs": [
    {
     "data": {
      "image/png": "[encoded data removed]",
      "text/plain": [
       "<Figure size 432x288 with 1 Axes>"
      ]
     },
     "metadata": {
      "needs_background": "light"
     },
     "output_type": "display_data"
    }
   ],
   "source": [
    "def func(x):\n",
    "    return np.zeros(100)+1/100\n",
    "\n",
    "my_data = gen_data(func)\n",
    "_ = plt.hist(my_data, 100, density=True)"
   ]
  },
  {
   "cell_type": "code",
   "execution_count": 467,
   "metadata": {},
   "outputs": [
    {
     "name": "stdout",
     "output_type": "stream",
     "text": [
      "error: 17.02218299999999\n"
     ]
    }
   ],
   "source": [
    "test(data, func) # uniform"
   ]
  },
  {
   "cell_type": "markdown",
   "metadata": {},
   "source": [
    "## Binomial RV"
   ]
  },
  {
   "cell_type": "code",
   "execution_count": 483,
   "metadata": {},
   "outputs": [],
   "source": [
    "def gen_data(func): # 입력된 PMF를 기반으로 data를 생성하는 함수\n",
    "    num_data=10000\n",
    "    x = np.linspace(0,99,100)\n",
    "    \n",
    "    # func의 argument는 수정 가능\n",
    "    p = func(x)\n",
    "    \n",
    "    error= 1-np.sum(p)\n",
    "    if error<0.1 and error >= 0:\n",
    "        p+=error/len(p)\n",
    "    else:\n",
    "        print(\"error:\",error,\" p의 총합이 1이 안됩니다.\")\n",
    "        return -100\n",
    "    \n",
    "    g_data = np.random.choice(x,num_data,p=p,replace=True)\n",
    "    return g_data\n",
    "\n",
    "def test(data, func):\n",
    "    error=0\n",
    "    test_num = 1000\n",
    "    for i in range(test_num):\n",
    "        error += np.mean(np.abs(np.sort(data)-np.sort(gen_data(func))))\n",
    "    \n",
    "    print(\"error:\",error/test_num)\n",
    "    return \n",
    "\n",
    "def test2(data, func):\n",
    "    error=0\n",
    "    test_num = 1000\n",
    "    for i in range(test_num):\n",
    "        error += np.mean(np.abs(np.sort(data)-np.sort(gen_data(func))))\n",
    "    \n",
    "    #print(\"error:\",error/test_num)\n",
    "    return error/test_num"
   ]
  },
  {
   "cell_type": "code",
   "execution_count": 484,
   "metadata": {},
   "outputs": [],
   "source": [
    "def factorial(n):\n",
    "    if n > 1:\n",
    "        return n * factorial(n-1)\n",
    "    else:\n",
    "        return 1"
   ]
  },
  {
   "cell_type": "code",
   "execution_count": 836,
   "metadata": {},
   "outputs": [
    {
     "name": "stdout",
     "output_type": "stream",
     "text": [
      "error: 0.14264359999999995\n"
     ]
    },
    {
     "data": {
      "image/png": "[encoded data removed]",
      "text/plain": [
       "<Figure size 432x288 with 1 Axes>"
      ]
     },
     "metadata": {
      "needs_background": "light"
     },
     "output_type": "display_data"
    }
   ],
   "source": [
    "from scipy.stats import nbinom\n",
    "def Binomial(x):\n",
    "    # x = 0~99\n",
    "    n = 100\n",
    "    p = 0.4\n",
    "    result = [0 for _ in range(100)]\n",
    "    for k in x:\n",
    "        result[int(k)] += ((factorial(n) / (factorial(k) * factorial(n - k))) * (p**k) * ((1 - p)**(n - k)))\n",
    "        \n",
    "    # x = 0~99\n",
    "    n = 100\n",
    "    p = 0.5\n",
    "    for k in x:\n",
    "        result[int(k)] += ((factorial(n) / (factorial(k) * factorial(n - k))) * (p**k) * ((1 - p)**(n - k)))\n",
    "        \n",
    "    # x = 0~99\n",
    "    n = 100\n",
    "    p = 0.6\n",
    "    for k in x:\n",
    "        result[int(k)] += ((factorial(n) / (factorial(k) * factorial(n - k))) * (p**k) * ((1 - p)**(n - k)))\n",
    "    return [x / 3 for x in result]\n",
    "\n",
    "my_data = gen_data(Binomial)\n",
    "test(data, Binomial) # uniform\n",
    "_ = plt.hist(my_data, 100, density=True)"
   ]
  }
 ],
 "metadata": {
  "kernelspec": {
   "display_name": "PyTorch 1.8.1 on Python 3.8 (CUDA 11.1)",
   "language": "python",
   "name": "python3"
  },
  "language_info": {
   "codemirror_mode": {
    "name": "ipython",
    "version": 3
   },
   "file_extension": ".py",
   "mimetype": "text/x-python",
   "name": "python",
   "nbconvert_exporter": "python",
   "pygments_lexer": "ipython3",
   "version": "3.8.7"
  }
 },
 "nbformat": 4,
 "nbformat_minor": 2
}
