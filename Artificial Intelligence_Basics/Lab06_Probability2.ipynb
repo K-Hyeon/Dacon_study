{
 "cells": [
  {
   "cell_type": "code",
   "execution_count": 1,
   "metadata": {},
   "outputs": [
    {
     "name": "stdout",
     "output_type": "stream",
     "text": [
      "Collecting ucimlrepo\n",
      "  Obtaining dependency information for ucimlrepo from https://files.pythonhosted.org/packages/3e/4a/ecc3456479d687202b34ee42317c3a63e09793c9409a720052d38356431a/ucimlrepo-0.0.3-py3-none-any.whl.metadata\n",
      "  Downloading ucimlrepo-0.0.3-py3-none-any.whl.metadata (5.2 kB)\n",
      "Downloading ucimlrepo-0.0.3-py3-none-any.whl (7.0 kB)\n",
      "Installing collected packages: ucimlrepo\n",
      "Successfully installed ucimlrepo-0.0.3\n",
      "Requirement already satisfied: pandas in c:\\users\\user\\anaconda3\\lib\\site-packages (2.0.3)\n",
      "Requirement already satisfied: python-dateutil>=2.8.2 in c:\\users\\user\\anaconda3\\lib\\site-packages (from pandas) (2.8.2)\n",
      "Requirement already satisfied: pytz>=2020.1 in c:\\users\\user\\anaconda3\\lib\\site-packages (from pandas) (2023.3.post1)\n",
      "Requirement already satisfied: tzdata>=2022.1 in c:\\users\\user\\anaconda3\\lib\\site-packages (from pandas) (2023.3)\n",
      "Requirement already satisfied: numpy>=1.21.0 in c:\\users\\user\\anaconda3\\lib\\site-packages (from pandas) (1.24.3)\n",
      "Requirement already satisfied: six>=1.5 in c:\\users\\user\\anaconda3\\lib\\site-packages (from python-dateutil>=2.8.2->pandas) (1.16.0)\n"
     ]
    }
   ],
   "source": [
    "# 최초 실행 시\n",
    "#!pip install ucimlrepo"
   ]
  },
  {
   "cell_type": "code",
   "execution_count": 2,
   "metadata": {},
   "outputs": [],
   "source": [
    "from ucimlrepo import fetch_ucirepo \n",
    "import numpy as np\n",
    "  \n",
    "# fetch dataset \n",
    "car_evaluation = fetch_ucirepo(id=19)\n",
    "  \n",
    "# data (as pandas dataframes) \n",
    "X = car_evaluation.data.features \n",
    "y = car_evaluation.data.targets "
   ]
  },
  {
   "cell_type": "code",
   "execution_count": 3,
   "metadata": {},
   "outputs": [],
   "source": [
    "X = X.to_dict('records')\n",
    "y = y.to_dict('records')"
   ]
  },
  {
   "cell_type": "markdown",
   "metadata": {},
   "source": [
    "### 1번 문제: Bayes theorem"
   ]
  },
  {
   "cell_type": "code",
   "execution_count": 59,
   "metadata": {},
   "outputs": [
    {
     "name": "stdout",
     "output_type": "stream",
     "text": [
      "prior: 0.03761574074074074\n",
      "normConstarint: 0.3333333333333333\n",
      "likelyhood: 0.01253858024691358\n",
      "posterior: 0.001414943951474623\n"
     ]
    }
   ],
   "source": [
    "def posterior(X, y, F, feature, E) :\n",
    "    # Prior\n",
    "    prior = 0\n",
    "    for i in range(len(y)):\n",
    "        if y[i]['class'] == F:\n",
    "            prior += 1\n",
    "    prior /= len(y)\n",
    "    print(f'prior: {prior}')\n",
    "\n",
    "    # Normalization constraint\n",
    "    normConstarint = 0\n",
    "    for i in range(len(X)):\n",
    "        if X[i]['safety'] == E:\n",
    "            normConstarint += 1\n",
    "    normConstarint /= len(X)\n",
    "    print(f'normConstarint: {normConstarint}')\n",
    "\n",
    "    # Likelyhood\n",
    "    # p(vgood|high) = p(F,E)\n",
    "    likelyhood = prior * normConstarint\n",
    "    print(f'likelyhood: {likelyhood}')\n",
    "\n",
    "    # Posterior\n",
    "    posterior = (likelyhood * prior) / normConstarint\n",
    "    print(f'posterior: {posterior}')\n",
    "\n",
    "posterior(X, y, F='vgood', feature='safety', E='high')"
   ]
  },
  {
   "cell_type": "markdown",
   "metadata": {},
   "source": [
    "### 2번 문제: Independent"
   ]
  },
  {
   "cell_type": "code",
   "execution_count": 62,
   "metadata": {},
   "outputs": [
    {
     "name": "stdout",
     "output_type": "stream",
     "text": [
      ">> P(E) and P(F) are dependent\n",
      "\n"
     ]
    }
   ],
   "source": [
    "def independent(X, y, feat_1, feat_2, E, F) :\n",
    "    # Prior\n",
    "    prior = 0\n",
    "    for i in range(len(X)):\n",
    "        if X[i][feat_2] == F:\n",
    "            prior += 1\n",
    "    prior /= len(X)\n",
    "\n",
    "    # Normalization constraint\n",
    "    normConstarint = 0\n",
    "    for i in range(len(X)):\n",
    "        if X[i][feat_1] == E:\n",
    "            normConstarint += 1\n",
    "    normConstarint /= len(X)\n",
    "\n",
    "    # Likelyhood\n",
    "    likelyhood = prior * normConstarint\n",
    "    \n",
    "    # Posterior\n",
    "    posterior = (likelyhood * prior) / normConstarint\n",
    "    \n",
    "    # Result\n",
    "    result = 'independent' if (likelyhood == normConstarint) & (posterior == prior)  else 'dependent'\n",
    "    print(f'>> P(E) and P(F) are {result}\\n')\n",
    "\n",
    "\n",
    "# independent case    \n",
    "independent(X, y, feat_1='buying', feat_2='safety', E='high', F='med')"
   ]
  }
 ],
 "metadata": {
  "kernelspec": {
   "display_name": "Python 3 (ipykernel)",
   "language": "python",
   "name": "python3"
  },
  "language_info": {
   "codemirror_mode": {
    "name": "ipython",
    "version": 3
   },
   "file_extension": ".py",
   "mimetype": "text/x-python",
   "name": "python",
   "nbconvert_exporter": "python",
   "pygments_lexer": "ipython3",
   "version": "3.11.5"
  }
 },
 "nbformat": 4,
 "nbformat_minor": 2
}
