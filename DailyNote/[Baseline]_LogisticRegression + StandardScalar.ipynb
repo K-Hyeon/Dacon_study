{
 "cells": [
  {
   "cell_type": "markdown",
   "id": "ce557fb5-c1ea-4cba-91af-95f186bed81d",
   "metadata": {},
   "source": [
    "# 라이브러리 불러오기"
   ]
  },
  {
   "cell_type": "code",
   "execution_count": 1,
   "id": "d56ffeb0-4d05-4b5c-9b06-5c8b9f2ae6cf",
   "metadata": {},
   "outputs": [],
   "source": [
    "import pandas as pd\n",
    "import numpy as np\n",
    "import random\n",
    "import os\n",
    "\n",
    "from sklearn.linear_model import LogisticRegression"
   ]
  },
  {
   "cell_type": "markdown",
   "id": "b75a65d4-6dd5-4dda-8dcf-a83c1dfc17f9",
   "metadata": {},
   "source": [
    "# 데이터 불러오기"
   ]
  },
  {
   "cell_type": "code",
   "execution_count": 2,
   "id": "d9ab5fa1-9b97-424b-b939-c8421bc70d5f",
   "metadata": {
    "tags": []
   },
   "outputs": [],
   "source": [
    "train = pd.read_csv('data/train.csv')\n",
    "test = pd.read_csv('data/test.csv')"
   ]
  },
  {
   "cell_type": "markdown",
   "id": "5522271d-b9a7-4cc2-b21f-f6189d715b50",
   "metadata": {},
   "source": [
    "# 독립변수, 종속변수로 나누기\n",
    "문자열은 머신러닝 모델에서 사용할 수 없으므로 제거합니다."
   ]
  },
  {
   "cell_type": "code",
   "execution_count": 3,
   "id": "454a1303-cf96-47e5-a05e-72c0e674c969",
   "metadata": {},
   "outputs": [],
   "source": [
    "x_train = train.drop(columns=['ID', 'Outcome'])\n",
    "y_train = train['Outcome']\n",
    "\n",
    "test = test.drop(columns = ['ID'])"
   ]
  },
  {
   "cell_type": "markdown",
   "id": "9053e3b1-c5ea-4c94-bee9-dfd99d47e5ec",
   "metadata": {},
   "source": [
    "# 데이터 전처리  \n",
    "### StandardScaler    \n",
    "\n",
    "분석 시 변수들의 스케일이 다른 경우 피처별 단위 또는 범위를 통일시켜주기 위해 표준화를 진행합니다.  \n",
    "\n",
    "StandardScaler는 데이터를 평균이 0이고 분산이 1인 정규 분포로 변환합니다."
   ]
  },
  {
   "cell_type": "code",
   "execution_count": 4,
   "id": "811e0a2a-4be5-4eef-9579-06f38d4a9169",
   "metadata": {},
   "outputs": [],
   "source": [
    "from sklearn.preprocessing import StandardScaler\n",
    "\n",
    "scaler = StandardScaler()\n",
    "\n",
    "train_scaler = scaler.fit_transform(x_train)\n",
    "test_scaler = scaler.transform(test)"
   ]
  },
  {
   "cell_type": "markdown",
   "id": "f7ea8d1d-e9eb-4cc7-947e-7285cdb9fcd7",
   "metadata": {},
   "source": [
    "# 모델정의\n",
    "분석에 사용할 모델을 선언합니다.  \n",
    "C는 규제의 강도를 결정하는 매개변수 입니다. C의 값이 높을 수록 규제가 감소합니다."
   ]
  },
  {
   "cell_type": "code",
   "execution_count": 10,
   "id": "28ba7155",
   "metadata": {},
   "outputs": [],
   "source": [
    "from sklearn.model_selection import train_test_split\n",
    "from sklearn.metrics import accuracy_score\n",
    "# 데이터 분할 (훈련 데이터를 훈련 세트와 검증 세트로 나눔)\n",
    "X_train_split, X_val, y_train_split, y_val = train_test_split(train_scaler, y_train, test_size=0.2, random_state=42)"
   ]
  },
  {
   "cell_type": "code",
   "execution_count": 11,
   "id": "dde67549-ad30-4945-98bc-528d4a6ec734",
   "metadata": {},
   "outputs": [],
   "source": [
    "lr = LogisticRegression(C = 0.5)"
   ]
  },
  {
   "cell_type": "markdown",
   "id": "36e2710d-b1b8-4c8e-a32b-7016abc0fdd3",
   "metadata": {},
   "source": [
    "# 모델 학습  \n",
    "모델에 독립변수와 종속변수를 넣는 방법으로 학습을 수행할 수 있습니다."
   ]
  },
  {
   "cell_type": "code",
   "execution_count": 12,
   "id": "abcff0d1-48cb-4812-a1a7-e92a8416d553",
   "metadata": {},
   "outputs": [
    {
     "data": {
      "text/html": [
       "<style>#sk-container-id-2 {color: black;background-color: white;}#sk-container-id-2 pre{padding: 0;}#sk-container-id-2 div.sk-toggleable {background-color: white;}#sk-container-id-2 label.sk-toggleable__label {cursor: pointer;display: block;width: 100%;margin-bottom: 0;padding: 0.3em;box-sizing: border-box;text-align: center;}#sk-container-id-2 label.sk-toggleable__label-arrow:before {content: \"▸\";float: left;margin-right: 0.25em;color: #696969;}#sk-container-id-2 label.sk-toggleable__label-arrow:hover:before {color: black;}#sk-container-id-2 div.sk-estimator:hover label.sk-toggleable__label-arrow:before {color: black;}#sk-container-id-2 div.sk-toggleable__content {max-height: 0;max-width: 0;overflow: hidden;text-align: left;background-color: #f0f8ff;}#sk-container-id-2 div.sk-toggleable__content pre {margin: 0.2em;color: black;border-radius: 0.25em;background-color: #f0f8ff;}#sk-container-id-2 input.sk-toggleable__control:checked~div.sk-toggleable__content {max-height: 200px;max-width: 100%;overflow: auto;}#sk-container-id-2 input.sk-toggleable__control:checked~label.sk-toggleable__label-arrow:before {content: \"▾\";}#sk-container-id-2 div.sk-estimator input.sk-toggleable__control:checked~label.sk-toggleable__label {background-color: #d4ebff;}#sk-container-id-2 div.sk-label input.sk-toggleable__control:checked~label.sk-toggleable__label {background-color: #d4ebff;}#sk-container-id-2 input.sk-hidden--visually {border: 0;clip: rect(1px 1px 1px 1px);clip: rect(1px, 1px, 1px, 1px);height: 1px;margin: -1px;overflow: hidden;padding: 0;position: absolute;width: 1px;}#sk-container-id-2 div.sk-estimator {font-family: monospace;background-color: #f0f8ff;border: 1px dotted black;border-radius: 0.25em;box-sizing: border-box;margin-bottom: 0.5em;}#sk-container-id-2 div.sk-estimator:hover {background-color: #d4ebff;}#sk-container-id-2 div.sk-parallel-item::after {content: \"\";width: 100%;border-bottom: 1px solid gray;flex-grow: 1;}#sk-container-id-2 div.sk-label:hover label.sk-toggleable__label {background-color: #d4ebff;}#sk-container-id-2 div.sk-serial::before {content: \"\";position: absolute;border-left: 1px solid gray;box-sizing: border-box;top: 0;bottom: 0;left: 50%;z-index: 0;}#sk-container-id-2 div.sk-serial {display: flex;flex-direction: column;align-items: center;background-color: white;padding-right: 0.2em;padding-left: 0.2em;position: relative;}#sk-container-id-2 div.sk-item {position: relative;z-index: 1;}#sk-container-id-2 div.sk-parallel {display: flex;align-items: stretch;justify-content: center;background-color: white;position: relative;}#sk-container-id-2 div.sk-item::before, #sk-container-id-2 div.sk-parallel-item::before {content: \"\";position: absolute;border-left: 1px solid gray;box-sizing: border-box;top: 0;bottom: 0;left: 50%;z-index: -1;}#sk-container-id-2 div.sk-parallel-item {display: flex;flex-direction: column;z-index: 1;position: relative;background-color: white;}#sk-container-id-2 div.sk-parallel-item:first-child::after {align-self: flex-end;width: 50%;}#sk-container-id-2 div.sk-parallel-item:last-child::after {align-self: flex-start;width: 50%;}#sk-container-id-2 div.sk-parallel-item:only-child::after {width: 0;}#sk-container-id-2 div.sk-dashed-wrapped {border: 1px dashed gray;margin: 0 0.4em 0.5em 0.4em;box-sizing: border-box;padding-bottom: 0.4em;background-color: white;}#sk-container-id-2 div.sk-label label {font-family: monospace;font-weight: bold;display: inline-block;line-height: 1.2em;}#sk-container-id-2 div.sk-label-container {text-align: center;}#sk-container-id-2 div.sk-container {/* jupyter's `normalize.less` sets `[hidden] { display: none; }` but bootstrap.min.css set `[hidden] { display: none !important; }` so we also need the `!important` here to be able to override the default hidden behavior on the sphinx rendered scikit-learn.org. See: https://github.com/scikit-learn/scikit-learn/issues/21755 */display: inline-block !important;position: relative;}#sk-container-id-2 div.sk-text-repr-fallback {display: none;}</style><div id=\"sk-container-id-2\" class=\"sk-top-container\"><div class=\"sk-text-repr-fallback\"><pre>LogisticRegression(C=0.5)</pre><b>In a Jupyter environment, please rerun this cell to show the HTML representation or trust the notebook. <br />On GitHub, the HTML representation is unable to render, please try loading this page with nbviewer.org.</b></div><div class=\"sk-container\" hidden><div class=\"sk-item\"><div class=\"sk-estimator sk-toggleable\"><input class=\"sk-toggleable__control sk-hidden--visually\" id=\"sk-estimator-id-2\" type=\"checkbox\" checked><label for=\"sk-estimator-id-2\" class=\"sk-toggleable__label sk-toggleable__label-arrow\">LogisticRegression</label><div class=\"sk-toggleable__content\"><pre>LogisticRegression(C=0.5)</pre></div></div></div></div></div>"
      ],
      "text/plain": [
       "LogisticRegression(C=0.5)"
      ]
     },
     "execution_count": 12,
     "metadata": {},
     "output_type": "execute_result"
    }
   ],
   "source": [
    "# 모델 학습\n",
    "lr.fit(X_train_split, y_train_split)"
   ]
  },
  {
   "cell_type": "code",
   "execution_count": 13,
   "id": "f61966f0",
   "metadata": {},
   "outputs": [
    {
     "name": "stdout",
     "output_type": "stream",
     "text": [
      "Validation Accuracy: 0.7786259541984732\n"
     ]
    }
   ],
   "source": [
    "# 검증 세트로 모델 평가\n",
    "val_predictions = lr.predict(X_val)\n",
    "accuracy = accuracy_score(y_val, val_predictions)\n",
    "print(f'Validation Accuracy: {accuracy}')"
   ]
  },
  {
   "cell_type": "markdown",
   "id": "d5aeb92f-4f0d-4a0e-ac22-4937ca17812b",
   "metadata": {},
   "source": [
    "# 예측"
   ]
  },
  {
   "cell_type": "code",
   "execution_count": 7,
   "id": "17b914e6-1acb-443f-9fd6-62eadaf536c8",
   "metadata": {},
   "outputs": [],
   "source": [
    "predict = lr.predict(test_scaler)"
   ]
  },
  {
   "cell_type": "markdown",
   "id": "a0978915-e1a4-4deb-bfac-22ef560494a4",
   "metadata": {},
   "source": [
    "# 제출"
   ]
  },
  {
   "cell_type": "code",
   "execution_count": 8,
   "id": "67b0c133-3a81-43c6-a2da-66c4be0c4ea9",
   "metadata": {},
   "outputs": [],
   "source": [
    "submit = pd.read_csv('data/sample_submission.csv')"
   ]
  },
  {
   "cell_type": "code",
   "execution_count": 9,
   "id": "d85cf678-e0d4-4532-9571-9b6123f73b36",
   "metadata": {},
   "outputs": [],
   "source": [
    "submit['Outcome'] = predict"
   ]
  },
  {
   "cell_type": "code",
   "execution_count": 10,
   "id": "a5e60672-9aaf-4848-8c8c-99f9acf3b5cf",
   "metadata": {},
   "outputs": [],
   "source": [
    "submit.to_csv('./submit.csv', index = False)"
   ]
  }
 ],
 "metadata": {
  "kernelspec": {
   "display_name": "Python 3",
   "language": "python",
   "name": "python3"
  },
  "language_info": {
   "codemirror_mode": {
    "name": "ipython",
    "version": 3
   },
   "file_extension": ".py",
   "mimetype": "text/x-python",
   "name": "python",
   "nbconvert_exporter": "python",
   "pygments_lexer": "ipython3",
   "version": "3.8.8"
  }
 },
 "nbformat": 4,
 "nbformat_minor": 5
}
