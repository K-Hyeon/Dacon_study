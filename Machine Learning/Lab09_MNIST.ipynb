{
 "cells": [
  {
   "cell_type": "code",
   "execution_count": 19,
   "metadata": {},
   "outputs": [],
   "source": [
    "import numpy as np\n",
    "import matplotlib.pyplot as plt\n",
    "import seaborn as sns\n",
    "from sklearn.metrics import confusion_matrix\n",
    "import pydotplus"
   ]
  },
  {
   "cell_type": "markdown",
   "metadata": {},
   "source": [
    "### Data load & preprocessing "
   ]
  },
  {
   "cell_type": "code",
   "execution_count": 2,
   "metadata": {},
   "outputs": [
    {
     "name": "stdout",
     "output_type": "stream",
     "text": [
      "(60000, 784) (60000,)\n",
      "(10000, 784) (10000,)\n"
     ]
    }
   ],
   "source": [
    "from dataset.mnist import load_mnist\n",
    "\n",
    "(train_raw_img, train_y), (test_raw_img, test_y) = load_mnist(flatten=False, normalize=False)\n",
    "\n",
    "# reshape \n",
    "train_X = train_raw_img.reshape(len(train_raw_img.squeeze()), -1)\n",
    "test_X = test_raw_img.reshape(len(test_raw_img.squeeze()), -1)\n",
    "\n",
    "print(train_X.shape, train_y.shape)\n",
    "print(test_X.shape, test_y.shape)"
   ]
  },
  {
   "cell_type": "code",
   "execution_count": 3,
   "metadata": {},
   "outputs": [],
   "source": [
    "# preprocessing : normalization(set 0~1)\n",
    "train_X = train_X.astype('float')/255\n",
    "test_X = test_X.astype('float')/255"
   ]
  },
  {
   "cell_type": "markdown",
   "metadata": {},
   "source": [
    "### Model"
   ]
  },
  {
   "cell_type": "code",
   "execution_count": 4,
   "metadata": {},
   "outputs": [],
   "source": [
    "def information_gain(y, y_left, y_right):\n",
    "    def entropy(y):\n",
    "        class_labels = np.unique(y)\n",
    "        entropy = 0\n",
    "        for label in class_labels:\n",
    "            p = np.sum(y == label) / len(y)\n",
    "            entropy += -p * np.log2(p)\n",
    "        return entropy\n",
    "\n",
    "    entropy_before = entropy(y)\n",
    "    entropy_left = entropy(y_left)\n",
    "    entropy_right = entropy(y_right)\n",
    "    \n",
    "    entropy_after = (len(y_left) / len(y)) * entropy_left + (len(y_right) / len(y)) * entropy_right\n",
    "    return entropy_before - entropy_after"
   ]
  },
  {
   "cell_type": "code",
   "execution_count": 5,
   "metadata": {},
   "outputs": [],
   "source": [
    "def make_tree(X, y, max_depth, depth=0) :\n",
    "    if depth == max_depth or len(np.unique(y)) == 1 : # stopping conditions\n",
    "        return {'class' : np.argmax(np.bincount(y))} # return class\n",
    "    \n",
    "    best_feature, best_threshold = find_best_split(X, y)\n",
    "    left_mask = X[:, best_feature] <= best_threshold\n",
    "    right_mask = X[:, best_feature] > best_threshold\n",
    "    left_node = make_tree(X[left_mask], y[left_mask], max_depth, depth + 1, )\n",
    "    right_node = make_tree(X[right_mask], y[right_mask], max_depth, depth + 1)\n",
    "    \n",
    "    return {'feature': best_feature, 'threshold': best_threshold, 'left': left_node, 'right': right_node}\n",
    "\n",
    "def find_best_split(X, y):\n",
    "    best_gain = -1\n",
    "    best_feature = None\n",
    "    best_threshold = None\n",
    "\n",
    "    for feature_idx in range(X.shape[1]):\n",
    "        feature_values = X[:, feature_idx]\n",
    "        thresholds = np.unique(feature_values)\n",
    "\n",
    "        for threshold in thresholds:\n",
    "            y_left = y[feature_values <= threshold]\n",
    "            y_right = y[feature_values > threshold]\n",
    "\n",
    "            if len(y_left) == 0 or len(y_right) == 0:\n",
    "                continue\n",
    "\n",
    "            gain = information_gain(y, y_left, y_right)\n",
    "\n",
    "            if gain > best_gain:\n",
    "                best_gain = gain\n",
    "                best_feature = feature_idx\n",
    "                best_threshold = threshold\n",
    "\n",
    "    return best_feature, best_threshold\n",
    "\n",
    "def prediction(x, node) :\n",
    "    if 'class' in node :\n",
    "        return node['class']\n",
    "    feature = node['feature']\n",
    "    feature = node['feature']\n",
    "    threshold = node['threshold']\n",
    "\n",
    "    if x[feature] <= threshold:\n",
    "        return prediction(x, node['left'])\n",
    "    else:\n",
    "        return prediction(x, node['right'])"
   ]
  },
  {
   "cell_type": "markdown",
   "metadata": {},
   "source": [
    "### train & evaluation"
   ]
  },
  {
   "cell_type": "code",
   "execution_count": 33,
   "metadata": {},
   "outputs": [
    {
     "data": {
      "text/plain": [
       "{'class': 1}"
      ]
     },
     "execution_count": 33,
     "metadata": {},
     "output_type": "execute_result"
    }
   ],
   "source": [
    "# early stopping\n",
    "model = make_tree(train_X, train_y, max_depth=0)\n",
    "model"
   ]
  },
  {
   "cell_type": "code",
   "execution_count": 34,
   "metadata": {},
   "outputs": [
    {
     "name": "stdout",
     "output_type": "stream",
     "text": [
      "early stopping in train set : 0.11236666666666667\n",
      "early stopping in test set : 0.1135\n"
     ]
    }
   ],
   "source": [
    "pred1 = np.array([prediction(x, model) for x in train_X])\n",
    "pred2 = np.array([prediction(x, model) for x in test_X])\n",
    "\n",
    "print('early stopping in train set :', np.mean(pred1==train_y))\n",
    "print('early stopping in test set :', np.mean(pred2==test_y))"
   ]
  },
  {
   "cell_type": "markdown",
   "metadata": {},
   "source": [
    "#### 1) math depth = 1"
   ]
  },
  {
   "cell_type": "code",
   "execution_count": 36,
   "metadata": {
    "scrolled": true
   },
   "outputs": [
    {
     "data": {
      "text/plain": [
       "{'feature': 461, 'threshold': 0.0, 'left': {'class': 0}, 'right': {'class': 1}}"
      ]
     },
     "execution_count": 36,
     "metadata": {},
     "output_type": "execute_result"
    }
   ],
   "source": [
    "model1 = make_tree(train_X, train_y, max_depth=1)\n",
    "model1"
   ]
  },
  {
   "cell_type": "code",
   "execution_count": 37,
   "metadata": {},
   "outputs": [
    {
     "name": "stdout",
     "output_type": "stream",
     "text": [
      "early stopping in train set : 0.20411666666666667\n",
      "early stopping in test set : 0.206\n"
     ]
    }
   ],
   "source": [
    "pred1 = np.array([prediction(x, model1) for x in train_X])\n",
    "pred2 = np.array([prediction(x, model1) for x in test_X])\n",
    "\n",
    "print('early stopping in train set :', np.mean(pred1==train_y))\n",
    "print('early stopping in test set :', np.mean(pred2==test_y))"
   ]
  },
  {
   "cell_type": "markdown",
   "metadata": {},
   "source": [
    "#### 2) math depth = 2"
   ]
  },
  {
   "cell_type": "code",
   "execution_count": 38,
   "metadata": {
    "scrolled": true
   },
   "outputs": [
    {
     "data": {
      "text/plain": [
       "{'feature': 461,\n",
       " 'threshold': 0.0,\n",
       " 'left': {'feature': 378,\n",
       "  'threshold': 0.011764705882352941,\n",
       "  'left': {'class': 0},\n",
       "  'right': {'class': 3}},\n",
       " 'right': {'feature': 401,\n",
       "  'threshold': 0.0,\n",
       "  'left': {'class': 1},\n",
       "  'right': {'class': 4}}}"
      ]
     },
     "execution_count": 38,
     "metadata": {},
     "output_type": "execute_result"
    }
   ],
   "source": [
    "model2 = make_tree(train_X, train_y, max_depth=2)\n",
    "model2"
   ]
  },
  {
   "cell_type": "code",
   "execution_count": 39,
   "metadata": {},
   "outputs": [
    {
     "name": "stdout",
     "output_type": "stream",
     "text": [
      "early stopping in train set : 0.33665\n",
      "early stopping in test set : 0.3398\n"
     ]
    }
   ],
   "source": [
    "pred1 = np.array([prediction(x, model2) for x in train_X])\n",
    "pred2 = np.array([prediction(x, model2) for x in test_X])\n",
    "\n",
    "print('early stopping in train set :', np.mean(pred1==train_y))\n",
    "print('early stopping in test set :', np.mean(pred2==test_y))"
   ]
  },
  {
   "cell_type": "markdown",
   "metadata": {},
   "source": [
    "#### 3) math depth = 3"
   ]
  },
  {
   "cell_type": "code",
   "execution_count": 40,
   "metadata": {
    "scrolled": true
   },
   "outputs": [
    {
     "data": {
      "text/plain": [
       "{'feature': 461,\n",
       " 'threshold': 0.0,\n",
       " 'left': {'feature': 378,\n",
       "  'threshold': 0.011764705882352941,\n",
       "  'left': {'feature': 597,\n",
       "   'threshold': 0.0,\n",
       "   'left': {'class': 7},\n",
       "   'right': {'class': 0}},\n",
       "  'right': {'feature': 625,\n",
       "   'threshold': 0.00392156862745098,\n",
       "   'left': {'class': 9},\n",
       "   'right': {'class': 3}}},\n",
       " 'right': {'feature': 401,\n",
       "  'threshold': 0.0,\n",
       "  'left': {'feature': 378,\n",
       "   'threshold': 0.5686274509803921,\n",
       "   'left': {'class': 2},\n",
       "   'right': {'class': 1}},\n",
       "  'right': {'feature': 542,\n",
       "   'threshold': 0.043137254901960784,\n",
       "   'left': {'class': 4},\n",
       "   'right': {'class': 6}}}}"
      ]
     },
     "execution_count": 40,
     "metadata": {},
     "output_type": "execute_result"
    }
   ],
   "source": [
    "model3 = make_tree(train_X, train_y, max_depth=3)\n",
    "model3"
   ]
  },
  {
   "cell_type": "code",
   "execution_count": 41,
   "metadata": {},
   "outputs": [
    {
     "name": "stdout",
     "output_type": "stream",
     "text": [
      "early stopping in train set : 0.4881333333333333\n",
      "early stopping in test set : 0.4918\n"
     ]
    }
   ],
   "source": [
    "pred1 = np.array([prediction(x, model3) for x in train_X])\n",
    "pred2 = np.array([prediction(x, model3) for x in test_X])\n",
    "\n",
    "print('early stopping in train set :', np.mean(pred1==train_y))\n",
    "print('early stopping in test set :', np.mean(pred2==test_y))"
   ]
  },
  {
   "cell_type": "markdown",
   "metadata": {},
   "source": [
    "#### 4) math depth = 5"
   ]
  },
  {
   "cell_type": "code",
   "execution_count": 42,
   "metadata": {
    "scrolled": true
   },
   "outputs": [
    {
     "data": {
      "text/plain": [
       "{'feature': 461,\n",
       " 'threshold': 0.0,\n",
       " 'left': {'feature': 378,\n",
       "  'threshold': 0.011764705882352941,\n",
       "  'left': {'feature': 597,\n",
       "   'threshold': 0.0,\n",
       "   'left': {'feature': 514,\n",
       "    'threshold': 0.0196078431372549,\n",
       "    'left': {'feature': 623,\n",
       "     'threshold': 0.0,\n",
       "     'left': {'class': 7},\n",
       "     'right': {'class': 0}},\n",
       "    'right': {'feature': 241,\n",
       "     'threshold': 0.01568627450980392,\n",
       "     'left': {'class': 6},\n",
       "     'right': {'class': 0}}},\n",
       "   'right': {'feature': 428,\n",
       "    'threshold': 0.0,\n",
       "    'left': {'feature': 490,\n",
       "     'threshold': 0.06274509803921569,\n",
       "     'left': {'class': 0},\n",
       "     'right': {'class': 2}},\n",
       "    'right': {'feature': 243,\n",
       "     'threshold': 0.0,\n",
       "     'left': {'class': 0},\n",
       "     'right': {'class': 0}}}},\n",
       "  'right': {'feature': 625,\n",
       "   'threshold': 0.00392156862745098,\n",
       "   'left': {'feature': 542,\n",
       "    'threshold': 0.00392156862745098,\n",
       "    'left': {'feature': 325,\n",
       "     'threshold': 0.043137254901960784,\n",
       "     'left': {'class': 5},\n",
       "     'right': {'class': 9}},\n",
       "    'right': {'feature': 458,\n",
       "     'threshold': 0.10588235294117647,\n",
       "     'left': {'class': 5},\n",
       "     'right': {'class': 6}}},\n",
       "   'right': {'feature': 297,\n",
       "    'threshold': 0.0,\n",
       "    'left': {'feature': 300,\n",
       "     'threshold': 0.0,\n",
       "     'left': {'class': 5},\n",
       "     'right': {'class': 3}},\n",
       "    'right': {'feature': 485,\n",
       "     'threshold': 0.1843137254901961,\n",
       "     'left': {'class': 3},\n",
       "     'right': {'class': 8}}}}},\n",
       " 'right': {'feature': 401,\n",
       "  'threshold': 0.0,\n",
       "  'left': {'feature': 378,\n",
       "   'threshold': 0.5686274509803921,\n",
       "   'left': {'feature': 376,\n",
       "    'threshold': 0.0196078431372549,\n",
       "    'left': {'feature': 155,\n",
       "     'threshold': 0.0,\n",
       "     'left': {'class': 7},\n",
       "     'right': {'class': 2}},\n",
       "    'right': {'feature': 354,\n",
       "     'threshold': 0.00784313725490196,\n",
       "     'left': {'class': 6},\n",
       "     'right': {'class': 8}}},\n",
       "   'right': {'feature': 319,\n",
       "    'threshold': 0.0,\n",
       "    'left': {'feature': 206,\n",
       "     'threshold': 0.00784313725490196,\n",
       "     'left': {'class': 1},\n",
       "     'right': {'class': 2}},\n",
       "    'right': {'feature': 487,\n",
       "     'threshold': 0.12549019607843137,\n",
       "     'left': {'class': 8},\n",
       "     'right': {'class': 8}}}},\n",
       "  'right': {'feature': 542,\n",
       "   'threshold': 0.043137254901960784,\n",
       "   'left': {'feature': 211,\n",
       "    'threshold': 0.10980392156862745,\n",
       "    'left': {'feature': 596,\n",
       "     'threshold': 0.0,\n",
       "     'left': {'class': 4},\n",
       "     'right': {'class': 5}},\n",
       "    'right': {'feature': 381,\n",
       "     'threshold': 0.06274509803921569,\n",
       "     'left': {'class': 5},\n",
       "     'right': {'class': 9}}},\n",
       "   'right': {'feature': 271,\n",
       "    'threshold': 0.0,\n",
       "    'left': {'feature': 574,\n",
       "     'threshold': 0.10980392156862745,\n",
       "     'left': {'class': 2},\n",
       "     'right': {'class': 6}},\n",
       "    'right': {'feature': 657,\n",
       "     'threshold': 0.03137254901960784,\n",
       "     'left': {'class': 2},\n",
       "     'right': {'class': 8}}}}}}"
      ]
     },
     "execution_count": 42,
     "metadata": {},
     "output_type": "execute_result"
    }
   ],
   "source": [
    "model5 = make_tree(train_X, train_y, max_depth=5)\n",
    "model5"
   ]
  },
  {
   "cell_type": "code",
   "execution_count": 43,
   "metadata": {},
   "outputs": [
    {
     "name": "stdout",
     "output_type": "stream",
     "text": [
      "early stopping in train set : 0.6933333333333334\n",
      "early stopping in test set : 0.6995\n"
     ]
    }
   ],
   "source": [
    "pred1 = np.array([prediction(x, model5) for x in train_X])\n",
    "pred2 = np.array([prediction(x, model5) for x in test_X])\n",
    "\n",
    "print('early stopping in train set :', np.mean(pred1==train_y))\n",
    "print('early stopping in test set :', np.mean(pred2==test_y))"
   ]
  },
  {
   "cell_type": "markdown",
   "metadata": {},
   "source": [
    "## 심화 문제"
   ]
  },
  {
   "cell_type": "code",
   "execution_count": 77,
   "metadata": {},
   "outputs": [],
   "source": [
    "import networkx as nx"
   ]
  },
  {
   "cell_type": "code",
   "execution_count": 52,
   "metadata": {},
   "outputs": [],
   "source": [
    "from dataset.mnist import load_mnist\n",
    "\n",
    "(train_raw_img, train_y), (test_raw_img, test_y) = load_mnist(flatten=False, normalize=False)"
   ]
  },
  {
   "cell_type": "code",
   "execution_count": 53,
   "metadata": {},
   "outputs": [],
   "source": [
    "# reshape \n",
    "train_X = train_raw_img.reshape(len(train_raw_img.squeeze()), -1)\n",
    "test_X = test_raw_img.reshape(len(test_raw_img.squeeze()), -1)\n",
    "\n",
    "# nomaization 1 (set value 0 ~ 1)\n",
    "train_X = train_X.astype('float')/255\n",
    "test_X = test_X.astype('float')/255"
   ]
  },
  {
   "cell_type": "code",
   "execution_count": 62,
   "metadata": {},
   "outputs": [],
   "source": [
    "def power_iteration(X, num_iter=100, epsilon=1e-10):\n",
    "    n, d = X.shape\n",
    "    b_k = np.random.rand(d)\n",
    "    \n",
    "    for _ in range(num_iter):\n",
    "        # 주어진 행렬과 곱하기\n",
    "        b_k1 = np.dot(X, b_k)\n",
    "        \n",
    "        # 정규화\n",
    "        b_k1_norm = np.linalg.norm(b_k1)\n",
    "        \n",
    "        # 다음 단계를 위해 업데이트\n",
    "        b_k_next = b_k1 / b_k1_norm\n",
    "        \n",
    "        # 수렴 확인\n",
    "        if np.linalg.norm(b_k_next[:d] - b_k) < epsilon:\n",
    "            return b_k_next[:d]\n",
    "        \n",
    "        b_k = b_k_next[:d]\n",
    "        \n",
    "    return b_k"
   ]
  },
  {
   "cell_type": "code",
   "execution_count": 63,
   "metadata": {},
   "outputs": [],
   "source": [
    "def pca(X, n_components):\n",
    "    X_centered = X - X.mean(axis=0)\n",
    "    cov_matrix = np.dot(X_centered.T, X_centered) / X_centered.shape[0]\n",
    "    components = np.zeros((n_components, cov_matrix.shape[1]))\n",
    "\n",
    "    for i in range(n_components):\n",
    "        component = power_iteration(cov_matrix)\n",
    "        components[i, :] = component\n",
    "        cov_matrix -= np.outer(component, component) * np.dot(component.T, cov_matrix)\n",
    "\n",
    "    return np.dot(X_centered, components.T)"
   ]
  },
  {
   "cell_type": "code",
   "execution_count": 78,
   "metadata": {},
   "outputs": [],
   "source": [
    "# PCA\n",
    "train_X_2D = pca(train_X, 2)\n",
    "test_X_2D = pca(test_X, 2)\n",
    "\n",
    "# Build decision tree\n",
    "model = make_tree(train_X_2D, train_y, max_depth=1)"
   ]
  },
  {
   "cell_type": "code",
   "execution_count": 79,
   "metadata": {},
   "outputs": [
    {
     "data": {
      "image/png": "[encoded data removed]",
      "text/plain": [
       "<Figure size 432x288 with 1 Axes>"
      ]
     },
     "metadata": {},
     "output_type": "display_data"
    }
   ],
   "source": [
    "def draw(node, parent=None, graph=None):\n",
    "    if graph is None:\n",
    "        graph = nx.DiGraph()\n",
    "    if parent is not None:\n",
    "        graph.add_edge(parent, str(node))\n",
    "    if 'class' in node:\n",
    "        return graph\n",
    "    else:\n",
    "        draw(node['left'], str(node), graph)\n",
    "        draw(node['right'], str(node), graph)\n",
    "        return graph\n",
    "\n",
    "def visualize_tree_networkx(node):\n",
    "    graph = draw(node)\n",
    "    pos = nx.spring_layout(graph)\n",
    "    nx.draw(graph, pos, with_labels=True, node_size=1500, node_color='skyblue')\n",
    "    plt.show()\n",
    "\n",
    "visualize_tree_networkx(model)"
   ]
  },
  {
   "cell_type": "code",
   "execution_count": 87,
   "metadata": {},
   "outputs": [
    {
     "name": "stdout",
     "output_type": "stream",
     "text": [
      "early stopping in train set : 0.20183333333333334\n",
      "early stopping in test set : 0.0971\n"
     ]
    }
   ],
   "source": [
    "pred1 = np.array([prediction(x, model) for x in train_X_2D])\n",
    "pred2 = np.array([prediction(x, model) for x in test_X_2D])\n",
    "\n",
    "print('early stopping in train set :', np.mean(pred1==train_y))\n",
    "print('early stopping in test set :', np.mean(pred2==test_y))"
   ]
  },
  {
   "cell_type": "markdown",
   "metadata": {},
   "source": [
    "#### 1) math depth = 0"
   ]
  },
  {
   "cell_type": "code",
   "execution_count": 89,
   "metadata": {},
   "outputs": [],
   "source": [
    "# PCA\n",
    "train_X_2D = pca(train_X, 2)\n",
    "test_X_2D = pca(test_X, 2)\n",
    "\n",
    "# Build decision tree\n",
    "model = make_tree(train_X_2D, train_y, max_depth=0)"
   ]
  },
  {
   "cell_type": "code",
   "execution_count": 90,
   "metadata": {},
   "outputs": [
    {
     "name": "stdout",
     "output_type": "stream",
     "text": [
      "early stopping in train set : 0.11236666666666667\n",
      "early stopping in test set : 0.1135\n"
     ]
    }
   ],
   "source": [
    "pred1 = np.array([prediction(x, model) for x in train_X_2D])\n",
    "pred2 = np.array([prediction(x, model) for x in test_X_2D])\n",
    "\n",
    "print('early stopping in train set :', np.mean(pred1==train_y))\n",
    "print('early stopping in test set :', np.mean(pred2==test_y))"
   ]
  },
  {
   "cell_type": "markdown",
   "metadata": {},
   "source": [
    "#### 2) math depth = 2"
   ]
  },
  {
   "cell_type": "code",
   "execution_count": 93,
   "metadata": {},
   "outputs": [],
   "source": [
    "# PCA\n",
    "train_X_2D = pca(train_X, 2)\n",
    "test_X_2D = pca(test_X, 2)\n",
    "\n",
    "# Build decision tree\n",
    "model = make_tree(train_X_2D, train_y, max_depth=2)"
   ]
  },
  {
   "cell_type": "code",
   "execution_count": 94,
   "metadata": {},
   "outputs": [
    {
     "name": "stdout",
     "output_type": "stream",
     "text": [
      "early stopping in train set : 0.27958333333333335\n",
      "early stopping in test set : 0.2817\n"
     ]
    }
   ],
   "source": [
    "pred1 = np.array([prediction(x, model) for x in train_X_2D])\n",
    "pred2 = np.array([prediction(x, model) for x in test_X_2D])\n",
    "\n",
    "print('early stopping in train set :', np.mean(pred1==train_y))\n",
    "print('early stopping in test set :', np.mean(pred2==test_y))"
   ]
  },
  {
   "cell_type": "markdown",
   "metadata": {},
   "source": [
    "#### 4) math depth = 4"
   ]
  },
  {
   "cell_type": "code",
   "execution_count": 95,
   "metadata": {},
   "outputs": [],
   "source": [
    "# PCA\n",
    "train_X_2D = pca(train_X, 2)\n",
    "test_X_2D = pca(test_X, 2)\n",
    "\n",
    "# Build decision tree\n",
    "model = make_tree(train_X_2D, train_y, max_depth=4)"
   ]
  },
  {
   "cell_type": "code",
   "execution_count": 96,
   "metadata": {},
   "outputs": [
    {
     "name": "stdout",
     "output_type": "stream",
     "text": [
      "early stopping in train set : 0.3028666666666667\n",
      "early stopping in test set : 0.3101\n"
     ]
    }
   ],
   "source": [
    "pred1 = np.array([prediction(x, model) for x in train_X_2D])\n",
    "pred2 = np.array([prediction(x, model) for x in test_X_2D])\n",
    "\n",
    "print('early stopping in train set :', np.mean(pred1==train_y))\n",
    "print('early stopping in test set :', np.mean(pred2==test_y))"
   ]
  }
 ],
 "metadata": {
  "kernelspec": {
   "display_name": "Python 3",
   "language": "python",
   "name": "python3"
  },
  "language_info": {
   "codemirror_mode": {
    "name": "ipython",
    "version": 3
   },
   "file_extension": ".py",
   "mimetype": "text/x-python",
   "name": "python",
   "nbconvert_exporter": "python",
   "pygments_lexer": "ipython3",
   "version": "3.8.8"
  }
 },
 "nbformat": 4,
 "nbformat_minor": 2
}
