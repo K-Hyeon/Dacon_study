{
 "cells": [
  {
   "cell_type": "markdown",
   "metadata": {},
   "source": [
    "# 1. Load Library & Data"
   ]
  },
  {
   "cell_type": "code",
   "execution_count": 69,
   "metadata": {},
   "outputs": [],
   "source": [
    "import numpy as np\n",
    "import matplotlib.pyplot as plt"
   ]
  },
  {
   "cell_type": "markdown",
   "metadata": {},
   "source": [
    "### Data load & preprocessing "
   ]
  },
  {
   "cell_type": "code",
   "execution_count": 70,
   "metadata": {},
   "outputs": [],
   "source": [
    "from dataset.mnist import load_mnist\n",
    "\n",
    "(train_raw_img, train_y), (test_raw_img, test_y) = load_mnist(flatten=False, normalize=False)\n",
    "\n",
    "# reshape \n",
    "train_X = train_raw_img.reshape(len(train_raw_img.squeeze()), -1)\n",
    "test_X = test_raw_img.reshape(len(test_raw_img.squeeze()), -1)"
   ]
  },
  {
   "cell_type": "code",
   "execution_count": 71,
   "metadata": {},
   "outputs": [],
   "source": [
    "# preprocessing : normalization(set 0~1)\n",
    "train_X = train_X.astype('float')/255\n",
    "test_X = test_X.astype('float')/255"
   ]
  },
  {
   "cell_type": "code",
   "execution_count": 72,
   "metadata": {},
   "outputs": [
    {
     "name": "stdout",
     "output_type": "stream",
     "text": [
      "(60000, 784) (60000,)\n",
      "(10000, 784) (10000,)\n"
     ]
    }
   ],
   "source": [
    "print(train_X.shape, train_y.shape)\n",
    "print(test_X.shape, test_y.shape)"
   ]
  },
  {
   "cell_type": "markdown",
   "metadata": {},
   "source": [
    "# 2. Model"
   ]
  },
  {
   "cell_type": "code",
   "execution_count": 73,
   "metadata": {},
   "outputs": [],
   "source": [
    "def information_gain(y, y_left, y_right):\n",
    "    def entropy(y):\n",
    "        class_labels = np.unique(y)\n",
    "        entropy = 0\n",
    "        for label in class_labels:\n",
    "            p = np.sum(y == label) / len(y)\n",
    "            entropy += -p * np.log2(p)\n",
    "        return entropy\n",
    "\n",
    "    entropy_before = entropy(y)\n",
    "    entropy_left = entropy(y_left)\n",
    "    entropy_right = entropy(y_right)\n",
    "    \n",
    "    entropy_after = (len(y_left) / len(y)) * entropy_left + (len(y_right) / len(y)) * entropy_right\n",
    "    return entropy_before - entropy_after"
   ]
  },
  {
   "cell_type": "code",
   "execution_count": 115,
   "metadata": {},
   "outputs": [],
   "source": [
    "def make_tree(X, y, max_depth, depth=0) :\n",
    "    if depth == max_depth or len(np.unique(y)) == 1 : # stopping conditions\n",
    "        return {'class' : np.argmax(np.bincount(y))} # return class\n",
    "    \n",
    "    best_feature, best_threshold = find_best_split(X, y)\n",
    "    left_mask = X[:, best_feature] <= best_threshold\n",
    "    right_mask = X[:, best_feature] > best_threshold\n",
    "    left_node = make_tree(X[left_mask], y[left_mask], max_depth, depth + 1, )\n",
    "    right_node = make_tree(X[right_mask], y[right_mask], max_depth, depth + 1)\n",
    "    \n",
    "    return {'feature': best_feature, 'threshold': best_threshold, 'left': left_node, 'right': right_node}\n",
    "\n",
    "def find_best_split(X, y):\n",
    "    best_gain = -1\n",
    "    best_feature = None\n",
    "    best_threshold = None\n",
    "\n",
    "    for feature_idx in range(X.shape[1]):\n",
    "        feature_values = X[:, feature_idx]\n",
    "        thresholds = np.unique(feature_values)\n",
    "\n",
    "        for threshold in thresholds:\n",
    "            y_left = y[feature_values <= threshold]\n",
    "            y_right = y[feature_values > threshold]\n",
    "\n",
    "            if len(y_left) == 0 or len(y_right) == 0:\n",
    "                continue\n",
    "\n",
    "            gain = information_gain(y, y_left, y_right)\n",
    "\n",
    "            if gain > best_gain:\n",
    "                best_gain = gain\n",
    "                best_feature = feature_idx\n",
    "                best_threshold = threshold\n",
    "\n",
    "    return best_feature, best_threshold\n",
    "\n",
    "def prediction(x, node) :\n",
    "    if 'class' in node :\n",
    "        return node['class']\n",
    "    feature = node['feature']\n",
    "    feature = node['feature']\n",
    "    threshold = node['threshold']\n",
    "\n",
    "    if x[feature] <= threshold:\n",
    "        return prediction(x, node['left'])\n",
    "    else:\n",
    "        return prediction(x, node['right'])"
   ]
  },
  {
   "cell_type": "markdown",
   "metadata": {},
   "source": [
    "### train & evaluation"
   ]
  },
  {
   "cell_type": "code",
   "execution_count": 34,
   "metadata": {},
   "outputs": [
    {
     "name": "stdout",
     "output_type": "stream",
     "text": [
      "early stopping in train set : 0.11236666666666667\n",
      "early stopping in test set : 0.1135\n"
     ]
    }
   ],
   "source": [
    "# early stopping\n",
    "model = make_tree(train_X, train_y, max_depth=0)\n",
    "pred1 = np.array([prediction(x, model) for x in train_X])\n",
    "pred2 = np.array([prediction(x, model) for x in test_X])\n",
    "\n",
    "print('early stopping in train set :', np.mean(pred1==train_y))\n",
    "print('early stopping in test set :', np.mean(pred2==test_y))"
   ]
  },
  {
   "cell_type": "markdown",
   "metadata": {},
   "source": [
    "#### 1) math depth = 1"
   ]
  },
  {
   "cell_type": "code",
   "execution_count": 37,
   "metadata": {},
   "outputs": [
    {
     "name": "stdout",
     "output_type": "stream",
     "text": [
      "early stopping in train set : 0.20411666666666667\n",
      "early stopping in test set : 0.206\n"
     ]
    }
   ],
   "source": [
    "# early stopping\n",
    "model1 = make_tree(train_X, train_y, max_depth=1)\n",
    "pred1 = np.array([prediction(x, model1) for x in train_X])\n",
    "pred2 = np.array([prediction(x, model1) for x in test_X])\n",
    "\n",
    "print('early stopping in train set :', np.mean(pred1==train_y))\n",
    "print('early stopping in test set :', np.mean(pred2==test_y))"
   ]
  },
  {
   "cell_type": "markdown",
   "metadata": {},
   "source": [
    "#### 2) math depth = 2"
   ]
  },
  {
   "cell_type": "code",
   "execution_count": 39,
   "metadata": {},
   "outputs": [
    {
     "name": "stdout",
     "output_type": "stream",
     "text": [
      "early stopping in train set : 0.33665\n",
      "early stopping in test set : 0.3398\n"
     ]
    }
   ],
   "source": [
    "# early stopping\n",
    "model2 = make_tree(train_X, train_y, max_depth=2)\n",
    "pred1 = np.array([prediction(x, model2) for x in train_X])\n",
    "pred2 = np.array([prediction(x, model2) for x in test_X])\n",
    "\n",
    "print('early stopping in train set :', np.mean(pred1==train_y))\n",
    "print('early stopping in test set :', np.mean(pred2==test_y))"
   ]
  },
  {
   "cell_type": "markdown",
   "metadata": {},
   "source": [
    "#### 3) math depth = 3"
   ]
  },
  {
   "cell_type": "code",
   "execution_count": 41,
   "metadata": {
    "scrolled": true
   },
   "outputs": [
    {
     "name": "stdout",
     "output_type": "stream",
     "text": [
      "early stopping in train set : 0.4881333333333333\n",
      "early stopping in test set : 0.4918\n"
     ]
    }
   ],
   "source": [
    "# early stopping\n",
    "model3 = make_tree(train_X, train_y, max_depth=3)\n",
    "pred1 = np.array([prediction(x, model3) for x in train_X])\n",
    "pred2 = np.array([prediction(x, model3) for x in test_X])\n",
    "\n",
    "print('early stopping in train set :', np.mean(pred1==train_y))\n",
    "print('early stopping in test set :', np.mean(pred2==test_y))"
   ]
  },
  {
   "cell_type": "markdown",
   "metadata": {},
   "source": [
    "#### 4) math depth = 4"
   ]
  },
  {
   "cell_type": "code",
   "execution_count": null,
   "metadata": {},
   "outputs": [],
   "source": [
    "# early stopping\n",
    "model4 = make_tree(train_X, train_y, max_depth=4)\n",
    "pred1 = np.array([prediction(x, model4) for x in train_X])\n",
    "pred2 = np.array([prediction(x, model4) for x in test_X])\n",
    "\n",
    "print('early stopping in train set :', np.mean(pred1==train_y))\n",
    "print('early stopping in test set :', np.mean(pred2==test_y))"
   ]
  },
  {
   "cell_type": "markdown",
   "metadata": {},
   "source": [
    "#### 5) math depth = 5"
   ]
  },
  {
   "cell_type": "code",
   "execution_count": 43,
   "metadata": {},
   "outputs": [
    {
     "name": "stdout",
     "output_type": "stream",
     "text": [
      "early stopping in train set : 0.6933333333333334\n",
      "early stopping in test set : 0.6995\n"
     ]
    }
   ],
   "source": [
    "# early stopping\n",
    "model5 = make_tree(train_X, train_y, max_depth=5)\n",
    "pred1 = np.array([prediction(x, model5) for x in train_X])\n",
    "pred2 = np.array([prediction(x, model5) for x in test_X])\n",
    "\n",
    "print('early stopping in train set :', np.mean(pred1==train_y))\n",
    "print('early stopping in test set :', np.mean(pred2==test_y))"
   ]
  },
  {
   "cell_type": "markdown",
   "metadata": {},
   "source": [
    "# [Bagging]"
   ]
  },
  {
   "cell_type": "code",
   "execution_count": 40,
   "metadata": {},
   "outputs": [],
   "source": [
    "def bagging_with_decision_trees(X, y, num_trees, max_depth) :\n",
    "    \n",
    "    models = []\n",
    "    \n",
    "    for _ in range(num_trees) :\n",
    "        bootstrap_idx = np.random.choice(len(X), size=len(X), replace=True)\n",
    "        bootstrap_X, bootstrap_y = X[bootstrap_idx], y[bootstrap_idx]\n",
    "        model = make_tree(bootstrap_X, bootstrap_y, max_depth)\n",
    "        models.append(model)\n",
    "        \n",
    "    return models"
   ]
  },
  {
   "cell_type": "code",
   "execution_count": 47,
   "metadata": {},
   "outputs": [],
   "source": [
    "def predict_bagging(models, X):\n",
    "    predictions = []\n",
    "\n",
    "    for model in models:\n",
    "        model_predictions = []\n",
    "        for i in range(len(X)):\n",
    "            pred = prediction(X[i], model)\n",
    "            model_predictions.append(pred)\n",
    "        predictions.append(model_predictions)\n",
    "\n",
    "    predictions = np.array(predictions)\n",
    "    majority_vote = np.apply_along_axis(lambda x: np.argmax(np.bincount(x)), axis=0, arr=predictions)\n",
    "    \n",
    "    return majority_vote"
   ]
  },
  {
   "cell_type": "code",
   "execution_count": 48,
   "metadata": {},
   "outputs": [
    {
     "data": {
      "text/plain": [
       "0.1135"
      ]
     },
     "execution_count": 48,
     "metadata": {},
     "output_type": "execute_result"
    }
   ],
   "source": [
    "models = bagging_with_decision_trees(train_X, train_y, num_trees = 6, max_depth = 0)\n",
    "\n",
    "preds = predict_bagging(models, test_X)\n",
    "acc = np.mean(preds==test_y)\n",
    "acc"
   ]
  },
  {
   "cell_type": "code",
   "execution_count": 55,
   "metadata": {},
   "outputs": [
    {
     "data": {
      "text/plain": [
       "0.206"
      ]
     },
     "execution_count": 55,
     "metadata": {},
     "output_type": "execute_result"
    }
   ],
   "source": [
    "models = bagging_with_decision_trees(train_X, train_y, num_trees = 6, max_depth = 1)\n",
    "\n",
    "preds = predict_bagging(models, test_X)\n",
    "acc = np.mean(preds==test_y)\n",
    "acc"
   ]
  },
  {
   "cell_type": "code",
   "execution_count": 50,
   "metadata": {},
   "outputs": [
    {
     "data": {
      "text/plain": [
       "0.3365"
      ]
     },
     "execution_count": 50,
     "metadata": {},
     "output_type": "execute_result"
    }
   ],
   "source": [
    "models = bagging_with_decision_trees(train_X, train_y, num_trees = 6, max_depth = 2)\n",
    "\n",
    "preds = predict_bagging(models, test_X)\n",
    "acc = np.mean(preds==test_y)\n",
    "acc"
   ]
  },
  {
   "cell_type": "code",
   "execution_count": 51,
   "metadata": {},
   "outputs": [
    {
     "data": {
      "text/plain": [
       "0.5145"
      ]
     },
     "execution_count": 51,
     "metadata": {},
     "output_type": "execute_result"
    }
   ],
   "source": [
    "models = bagging_with_decision_trees(train_X, train_y, num_trees = 6, max_depth = 3)\n",
    "\n",
    "preds = predict_bagging(models, test_X)\n",
    "acc = np.mean(preds==test_y)\n",
    "acc"
   ]
  },
  {
   "cell_type": "code",
   "execution_count": 52,
   "metadata": {},
   "outputs": [
    {
     "data": {
      "text/plain": [
       "0.6676"
      ]
     },
     "execution_count": 52,
     "metadata": {},
     "output_type": "execute_result"
    }
   ],
   "source": [
    "models = bagging_with_decision_trees(train_X, train_y, num_trees = 6, max_depth = 4)\n",
    "\n",
    "preds = predict_bagging(models, test_X)\n",
    "acc = np.mean(preds==test_y)\n",
    "acc"
   ]
  },
  {
   "cell_type": "code",
   "execution_count": 53,
   "metadata": {},
   "outputs": [
    {
     "data": {
      "text/plain": [
       "0.7594"
      ]
     },
     "execution_count": 53,
     "metadata": {},
     "output_type": "execute_result"
    }
   ],
   "source": [
    "models = bagging_with_decision_trees(train_X, train_y, num_trees = 6, max_depth = 5)\n",
    "\n",
    "preds = predict_bagging(models, test_X)\n",
    "acc = np.mean(preds==test_y)\n",
    "acc"
   ]
  },
  {
   "cell_type": "code",
   "execution_count": 54,
   "metadata": {},
   "outputs": [
    {
     "data": {
      "text/plain": [
       "0.7694"
      ]
     },
     "execution_count": 54,
     "metadata": {},
     "output_type": "execute_result"
    }
   ],
   "source": [
    "models = bagging_with_decision_trees(train_X, train_y, num_trees = 10, max_depth = 5)\n",
    "\n",
    "preds = predict_bagging(models, test_X)\n",
    "acc = np.mean(preds==test_y)\n",
    "acc"
   ]
  },
  {
   "cell_type": "markdown",
   "metadata": {},
   "source": [
    "### Random forests"
   ]
  },
  {
   "cell_type": "code",
   "execution_count": 84,
   "metadata": {},
   "outputs": [],
   "source": [
    "def make_tree(X, y, max_depth, depth=0) :\n",
    "    if depth == max_depth or len(np.unique(y)) == 1 : # stopping conditions\n",
    "        return {'class' : np.argmax(np.bincount(y))} # return class\n",
    "    \n",
    "    best_feature, best_threshold = find_best_split(X, y)\n",
    "    left_mask = X[:, best_feature] <= best_threshold\n",
    "    right_mask = X[:, best_feature] > best_threshold\n",
    "    left_node = make_tree(X[left_mask], y[left_mask], max_depth, depth + 1, )\n",
    "    right_node = make_tree(X[right_mask], y[right_mask], max_depth, depth + 1)\n",
    "    \n",
    "    return {'feature': best_feature, 'threshold': best_threshold, 'left': left_node, 'right': right_node}\n",
    "\n",
    "def find_best_split(X, y):\n",
    "    best_gain = -1\n",
    "    best_feature = None\n",
    "    best_threshold = None\n",
    "\n",
    "    for feature_idx in range(X.shape[1]):\n",
    "        feature_values = X[:, feature_idx]\n",
    "        thresholds = np.unique(feature_values)\n",
    "\n",
    "        for threshold in thresholds:\n",
    "            y_left = y[feature_values <= threshold]\n",
    "            y_right = y[feature_values > threshold]\n",
    "\n",
    "            if len(y_left) == 0 or len(y_right) == 0:\n",
    "                continue\n",
    "\n",
    "            gain = information_gain(y, y_left, y_right)\n",
    "\n",
    "            if gain > best_gain:\n",
    "                best_gain = gain\n",
    "                best_feature = feature_idx\n",
    "                best_threshold = threshold\n",
    "\n",
    "    return best_feature, best_threshold\n",
    "\n",
    "def prediction(x, node):\n",
    "    if 'class' in node:\n",
    "        return node['class']\n",
    "    feature = node['feature']\n",
    "    threshold = node['threshold']\n",
    "    \n",
    "    if x[0, feature] <= threshold:  # 개별 요소에 대해 비교\n",
    "        return prediction(x, node['left'])\n",
    "    else:\n",
    "        return prediction(x, node['right'])"
   ]
  },
  {
   "cell_type": "code",
   "execution_count": 95,
   "metadata": {},
   "outputs": [],
   "source": [
    "def random_forests_with_decision_trees(X, y, num_trees, max_depth):\n",
    "    models = []\n",
    "    feature_idx = []\n",
    "\n",
    "    for _ in range(num_trees):\n",
    "        bootstrap_idx = np.random.choice(len(X), size=len(X), replace=True)\n",
    "        bootstrap_X, bootstrap_y = X[bootstrap_idx], y[bootstrap_idx]\n",
    "\n",
    "        num_features = int(np.sqrt(X.shape[1]))\n",
    "        selected_features = np.random.choice(X.shape[1], size=num_features, replace=False)\n",
    "        feature_idx.append(selected_features)\n",
    "\n",
    "        model = make_tree(bootstrap_X[:, selected_features], bootstrap_y, max_depth)\n",
    "        models.append(model)\n",
    "\n",
    "    return models, feature_idx"
   ]
  },
  {
   "cell_type": "code",
   "execution_count": 96,
   "metadata": {},
   "outputs": [],
   "source": [
    "def predict_random_forests(models, X, feature_idx):\n",
    "    predictions = []\n",
    "\n",
    "    for model in models:\n",
    "        model_predictions = []\n",
    "        for i in range(len(X)):\n",
    "            pred = prediction(X[i, feature_idx], model)  # Only consider selected features\n",
    "            model_predictions.append(pred)\n",
    "        predictions.append(model_predictions)\n",
    "\n",
    "    predictions = np.array(predictions)\n",
    "    majority_vote = np.apply_along_axis(lambda x: np.argmax(np.bincount(x)), axis=0, arr=predictions)\n",
    "\n",
    "    return majority_vote"
   ]
  },
  {
   "cell_type": "code",
   "execution_count": 97,
   "metadata": {},
   "outputs": [
    {
     "data": {
      "text/plain": [
       "0.1135"
      ]
     },
     "execution_count": 97,
     "metadata": {},
     "output_type": "execute_result"
    }
   ],
   "source": [
    "models, feature_idx = random_forests_with_decision_trees(train_X, train_y, num_trees = 6, max_depth = 0)\n",
    "\n",
    "preds = predict_random_forests(models, test_X, feature_idx)\n",
    "acc = np.mean(preds==test_y)\n",
    "acc"
   ]
  },
  {
   "cell_type": "code",
   "execution_count": 99,
   "metadata": {},
   "outputs": [
    {
     "data": {
      "text/plain": [
       "0.1519"
      ]
     },
     "execution_count": 99,
     "metadata": {},
     "output_type": "execute_result"
    }
   ],
   "source": [
    "models, feature_idx = random_forests_with_decision_trees(train_X, train_y, num_trees = 6, max_depth = 1)\n",
    "\n",
    "preds = predict_random_forests(models, test_X, feature_idx)\n",
    "acc = np.mean(preds==test_y)\n",
    "acc"
   ]
  },
  {
   "cell_type": "code",
   "execution_count": 110,
   "metadata": {},
   "outputs": [
    {
     "data": {
      "text/plain": [
       "0.1235"
      ]
     },
     "execution_count": 110,
     "metadata": {},
     "output_type": "execute_result"
    }
   ],
   "source": [
    "models, feature_idx = random_forests_with_decision_trees(train_X, train_y, num_trees = 6, max_depth = 1)\n",
    "\n",
    "preds = predict_random_forests(models, test_X, feature_idx)\n",
    "acc = np.mean(preds==test_y)\n",
    "acc"
   ]
  },
  {
   "cell_type": "code",
   "execution_count": 114,
   "metadata": {},
   "outputs": [
    {
     "data": {
      "text/plain": [
       "0.1554"
      ]
     },
     "execution_count": 114,
     "metadata": {},
     "output_type": "execute_result"
    }
   ],
   "source": [
    "models, feature_idx = random_forests_with_decision_trees(train_X, train_y, num_trees = 6, max_depth = 2)\n",
    "\n",
    "preds = predict_random_forests(models, test_X, feature_idx)\n",
    "acc = np.mean(preds==test_y)\n",
    "acc"
   ]
  },
  {
   "cell_type": "code",
   "execution_count": 101,
   "metadata": {},
   "outputs": [
    {
     "data": {
      "text/plain": [
       "0.1316"
      ]
     },
     "execution_count": 101,
     "metadata": {},
     "output_type": "execute_result"
    }
   ],
   "source": [
    "models, feature_idx = random_forests_with_decision_trees(train_X, train_y, num_trees = 6, max_depth = 2)\n",
    "\n",
    "preds = predict_random_forests(models, test_X, feature_idx)\n",
    "acc = np.mean(preds==test_y)\n",
    "acc"
   ]
  },
  {
   "cell_type": "code",
   "execution_count": 104,
   "metadata": {},
   "outputs": [
    {
     "data": {
      "text/plain": [
       "0.2132"
      ]
     },
     "execution_count": 104,
     "metadata": {},
     "output_type": "execute_result"
    }
   ],
   "source": [
    "models, feature_idx = random_forests_with_decision_trees(train_X, train_y, num_trees = 6, max_depth = 3)\n",
    "\n",
    "preds = predict_random_forests(models, test_X, feature_idx)\n",
    "acc = np.mean(preds==test_y)\n",
    "acc"
   ]
  },
  {
   "cell_type": "code",
   "execution_count": 111,
   "metadata": {},
   "outputs": [
    {
     "data": {
      "text/plain": [
       "0.1887"
      ]
     },
     "execution_count": 111,
     "metadata": {},
     "output_type": "execute_result"
    }
   ],
   "source": [
    "models, feature_idx = random_forests_with_decision_trees(train_X, train_y, num_trees = 6, max_depth = 3)\n",
    "\n",
    "preds = predict_random_forests(models, test_X, feature_idx)\n",
    "acc = np.mean(preds==test_y)\n",
    "acc"
   ]
  },
  {
   "cell_type": "code",
   "execution_count": 105,
   "metadata": {},
   "outputs": [
    {
     "data": {
      "text/plain": [
       "0.1618"
      ]
     },
     "execution_count": 105,
     "metadata": {},
     "output_type": "execute_result"
    }
   ],
   "source": [
    "models, feature_idx = random_forests_with_decision_trees(train_X, train_y, num_trees = 6, max_depth = 4)\n",
    "\n",
    "preds = predict_random_forests(models, test_X, feature_idx)\n",
    "acc = np.mean(preds==test_y)\n",
    "acc"
   ]
  },
  {
   "cell_type": "code",
   "execution_count": 112,
   "metadata": {},
   "outputs": [
    {
     "data": {
      "text/plain": [
       "0.1218"
      ]
     },
     "execution_count": 112,
     "metadata": {},
     "output_type": "execute_result"
    }
   ],
   "source": [
    "models, feature_idx = random_forests_with_decision_trees(train_X, train_y, num_trees = 6, max_depth = 4)\n",
    "\n",
    "preds = predict_random_forests(models, test_X, feature_idx)\n",
    "acc = np.mean(preds==test_y)\n",
    "acc"
   ]
  },
  {
   "cell_type": "code",
   "execution_count": 109,
   "metadata": {},
   "outputs": [
    {
     "data": {
      "text/plain": [
       "0.1355"
      ]
     },
     "execution_count": 109,
     "metadata": {},
     "output_type": "execute_result"
    }
   ],
   "source": [
    "models, feature_idx = random_forests_with_decision_trees(train_X, train_y, num_trees = 10, max_depth = 4)\n",
    "\n",
    "preds = predict_random_forests(models, test_X, feature_idx)\n",
    "acc = np.mean(preds==test_y)\n",
    "acc"
   ]
  },
  {
   "cell_type": "code",
   "execution_count": 103,
   "metadata": {},
   "outputs": [
    {
     "data": {
      "text/plain": [
       "0.3102"
      ]
     },
     "execution_count": 103,
     "metadata": {},
     "output_type": "execute_result"
    }
   ],
   "source": [
    "models, feature_idx = random_forests_with_decision_trees(train_X, train_y, num_trees = 6, max_depth = 5)\n",
    "\n",
    "preds = predict_random_forests(models, test_X, feature_idx)\n",
    "acc = np.mean(preds==test_y)\n",
    "acc"
   ]
  },
  {
   "cell_type": "code",
   "execution_count": 107,
   "metadata": {},
   "outputs": [
    {
     "data": {
      "text/plain": [
       "0.187"
      ]
     },
     "execution_count": 107,
     "metadata": {},
     "output_type": "execute_result"
    }
   ],
   "source": [
    "models, feature_idx = random_forests_with_decision_trees(train_X, train_y, num_trees = 6, max_depth = 5)\n",
    "\n",
    "preds = predict_random_forests(models, test_X, feature_idx)\n",
    "acc = np.mean(preds==test_y)\n",
    "acc"
   ]
  },
  {
   "cell_type": "code",
   "execution_count": 108,
   "metadata": {},
   "outputs": [
    {
     "data": {
      "text/plain": [
       "0.2884"
      ]
     },
     "execution_count": 108,
     "metadata": {},
     "output_type": "execute_result"
    }
   ],
   "source": [
    "models, feature_idx = random_forests_with_decision_trees(train_X, train_y, num_trees = 10, max_depth = 5)\n",
    "\n",
    "preds = predict_random_forests(models, test_X, feature_idx)\n",
    "acc = np.mean(preds==test_y)\n",
    "acc"
   ]
  },
  {
   "cell_type": "code",
   "execution_count": 113,
   "metadata": {},
   "outputs": [
    {
     "data": {
      "text/plain": [
       "0.2384"
      ]
     },
     "execution_count": 113,
     "metadata": {},
     "output_type": "execute_result"
    }
   ],
   "source": [
    "models, feature_idx = random_forests_with_decision_trees(train_X, train_y, num_trees = 6, max_depth = 6)\n",
    "\n",
    "preds = predict_random_forests(models, test_X, feature_idx)\n",
    "acc = np.mean(preds==test_y)\n",
    "acc"
   ]
  }
 ],
 "metadata": {
  "kernelspec": {
   "display_name": "Python 3",
   "language": "python",
   "name": "python3"
  },
  "language_info": {
   "codemirror_mode": {
    "name": "ipython",
    "version": 3
   },
   "file_extension": ".py",
   "mimetype": "text/x-python",
   "name": "python",
   "nbconvert_exporter": "python",
   "pygments_lexer": "ipython3",
   "version": "3.8.8"
  }
 },
 "nbformat": 4,
 "nbformat_minor": 2
}
