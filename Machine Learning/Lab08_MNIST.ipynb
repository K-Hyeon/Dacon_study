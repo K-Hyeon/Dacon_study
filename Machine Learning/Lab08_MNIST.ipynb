{
 "cells": [
  {
   "cell_type": "code",
   "execution_count": 1,
   "metadata": {},
   "outputs": [],
   "source": [
    "import numpy as np \n",
    "import matplotlib.pyplot as plt"
   ]
  },
  {
   "cell_type": "markdown",
   "metadata": {},
   "source": [
    "## data load & preprocessing"
   ]
  },
  {
   "cell_type": "code",
   "execution_count": 2,
   "metadata": {},
   "outputs": [],
   "source": [
    "from dataset.mnist import load_mnist\n",
    "\n",
    "(train_raw_img, train_y), (test_raw_img, test_y) = load_mnist(flatten=False, normalize=False)"
   ]
  },
  {
   "cell_type": "code",
   "execution_count": 3,
   "metadata": {},
   "outputs": [],
   "source": [
    "# reshape \n",
    "train_X = train_raw_img.reshape(len(train_raw_img.squeeze()), -1)\n",
    "test_X = test_raw_img.reshape(len(test_raw_img.squeeze()), -1)"
   ]
  },
  {
   "cell_type": "markdown",
   "metadata": {},
   "source": [
    "### mutinomial naive bayes"
   ]
  },
  {
   "cell_type": "code",
   "execution_count": 4,
   "metadata": {},
   "outputs": [],
   "source": [
    "def train_MNB(X, y) :\n",
    "    classes = np.unique(y)\n",
    "    class_priors = np.zeros(len(classes))\n",
    "    feature_parameters = np.zeros((len(classes), X.shape[1]))\n",
    "    \n",
    "    for c in classes:\n",
    "        X_c = X[y == c]\n",
    "        class_priors[c] = X_c.shape[0] / X.shape[0]\n",
    "        feature_parameters[c] = (X_c.sum(axis=0) + 1) / (np.sum(X_c) + X.shape[1])\n",
    "    return class_priors, feature_parameters"
   ]
  },
  {
   "cell_type": "code",
   "execution_count": 5,
   "metadata": {},
   "outputs": [],
   "source": [
    "def MLE_with_MNB(X, y, class_priors, feature_parameters) :\n",
    "    classes = np.unique(y)\n",
    "    log_likelihoods = np.zeros((X.shape[0], len(classes)))\n",
    "    \n",
    "    for c in classes:\n",
    "        log_likelihoods[:, c] = np.log(class_priors[c]) + X @ np.log(feature_parameters[c])\n",
    "    preds = np.argmax(log_likelihoods, axis=1)\n",
    "    return preds"
   ]
  },
  {
   "cell_type": "code",
   "execution_count": 6,
   "metadata": {},
   "outputs": [
    {
     "name": "stdout",
     "output_type": "stream",
     "text": [
      "0.97\n",
      "0.73\n"
     ]
    }
   ],
   "source": [
    "class_priors, feature_parameters = train_MNB(train_X[:100], train_y[:100])\n",
    "\n",
    "train_preds = MLE_with_MNB(train_X[:100], train_y, class_priors, feature_parameters)\n",
    "train_acc = np.mean(train_preds == train_y[:100])\n",
    "print(train_acc)\n",
    "\n",
    "test_pred = MLE_with_MNB(test_X[:100], test_y, class_priors, feature_parameters)\n",
    "test_acc = np.mean(test_pred == test_y[:100])\n",
    "print(test_acc)"
   ]
  },
  {
   "cell_type": "code",
   "execution_count": 7,
   "metadata": {},
   "outputs": [
    {
     "name": "stdout",
     "output_type": "stream",
     "text": [
      "0.865\n",
      "0.779\n"
     ]
    }
   ],
   "source": [
    "class_priors, feature_parameters = train_MNB(train_X[:1000], train_y[:1000])\n",
    "\n",
    "train_preds = MLE_with_MNB(train_X[:1000], train_y, class_priors, feature_parameters)\n",
    "train_acc = np.mean(train_preds == train_y[:1000])\n",
    "print(train_acc)\n",
    "\n",
    "test_pred = MLE_with_MNB(test_X[:1000], test_y, class_priors, feature_parameters)\n",
    "test_acc = np.mean(test_pred == test_y[:1000])\n",
    "print(test_acc)"
   ]
  },
  {
   "cell_type": "code",
   "execution_count": 8,
   "metadata": {},
   "outputs": [
    {
     "name": "stdout",
     "output_type": "stream",
     "text": [
      "0.834\n",
      "0.8341\n"
     ]
    }
   ],
   "source": [
    "class_priors, feature_parameters = train_MNB(train_X[:10000], train_y[:10000])\n",
    "\n",
    "train_preds = MLE_with_MNB(train_X[:10000], train_y, class_priors, feature_parameters)\n",
    "train_acc = np.mean(train_preds == train_y[:10000])\n",
    "print(train_acc)\n",
    "\n",
    "test_pred = MLE_with_MNB(test_X[:10000], test_y, class_priors, feature_parameters)\n",
    "test_acc = np.mean(test_pred == test_y[:10000])\n",
    "print(test_acc)"
   ]
  },
  {
   "cell_type": "code",
   "execution_count": 9,
   "metadata": {},
   "outputs": [
    {
     "name": "stdout",
     "output_type": "stream",
     "text": [
      "0.8252833333333334\n",
      "0.8365\n"
     ]
    }
   ],
   "source": [
    "class_priors, feature_parameters = train_MNB(train_X, train_y)\n",
    "\n",
    "train_preds = MLE_with_MNB(train_X, train_y, class_priors, feature_parameters)\n",
    "train_acc = np.mean(train_preds == train_y)\n",
    "print(train_acc)\n",
    "\n",
    "test_pred = MLE_with_MNB(test_X, test_y, class_priors, feature_parameters)\n",
    "test_acc = np.mean(test_pred == test_y)\n",
    "print(test_acc)"
   ]
  },
  {
   "cell_type": "markdown",
   "metadata": {},
   "source": [
    "### bernoulli naive bayes"
   ]
  },
  {
   "cell_type": "code",
   "execution_count": 10,
   "metadata": {},
   "outputs": [],
   "source": [
    "def train_BNB(X, y) :\n",
    "    classes = np.unique(y)\n",
    "    class_priors = np.zeros(len(classes))\n",
    "    feature_parameters = np.zeros((len(classes), X.shape[1]))\n",
    "    \n",
    "    for c in classes:\n",
    "        X_c = X[y == c]\n",
    "        class_priors[c] = X_c.shape[0] / X.shape[0]\n",
    "        feature_parameters[c] = (X_c.sum(axis=0) + 1) / (np.sum(X_c) + 2)\n",
    "    return class_priors, feature_parameters"
   ]
  },
  {
   "cell_type": "code",
   "execution_count": 11,
   "metadata": {},
   "outputs": [],
   "source": [
    "def MLE_with_BNB(X, y, class_priors, feature_parameters) :\n",
    "    classes = np.unique(y)\n",
    "    log_likelihoods = np.zeros((X.shape[0], len(classes)))\n",
    "    \n",
    "    for c in classes:\n",
    "        log_likelihoods[:, c] = np.log(class_priors[c]) + X @ np.log(feature_parameters[c]) + (1 - X) @ np.log(1 - feature_parameters[c])\n",
    "    preds = np.argmax(log_likelihoods, axis=1)\n",
    "    return preds"
   ]
  },
  {
   "cell_type": "code",
   "execution_count": 12,
   "metadata": {},
   "outputs": [
    {
     "name": "stdout",
     "output_type": "stream",
     "text": [
      "0.97\n",
      "0.73\n"
     ]
    }
   ],
   "source": [
    "class_priors, feature_parameters = train_BNB(train_X[:100], train_y[:100])\n",
    "\n",
    "train_preds = MLE_with_BNB(train_X[:100], train_y, class_priors, feature_parameters)\n",
    "train_acc = np.mean(train_preds == train_y[:100])\n",
    "print(train_acc)\n",
    "\n",
    "test_pred = MLE_with_BNB(test_X[:100], test_y, class_priors, feature_parameters)\n",
    "test_acc = np.mean(test_pred == test_y[:100])\n",
    "print(test_acc)"
   ]
  },
  {
   "cell_type": "code",
   "execution_count": 13,
   "metadata": {},
   "outputs": [
    {
     "name": "stdout",
     "output_type": "stream",
     "text": [
      "0.865\n",
      "0.779\n"
     ]
    }
   ],
   "source": [
    "class_priors, feature_parameters = train_BNB(train_X[:1000], train_y[:1000])\n",
    "\n",
    "train_preds = MLE_with_BNB(train_X[:1000], train_y, class_priors, feature_parameters)\n",
    "train_acc = np.mean(train_preds == train_y[:1000])\n",
    "print(train_acc)\n",
    "\n",
    "test_pred = MLE_with_BNB(test_X[:1000], test_y, class_priors, feature_parameters)\n",
    "test_acc = np.mean(test_pred == test_y[:1000])\n",
    "print(test_acc)"
   ]
  },
  {
   "cell_type": "code",
   "execution_count": 14,
   "metadata": {},
   "outputs": [
    {
     "name": "stdout",
     "output_type": "stream",
     "text": [
      "0.8342\n",
      "0.8341\n"
     ]
    }
   ],
   "source": [
    "class_priors, feature_parameters = train_BNB(train_X[:10000], train_y[:10000])\n",
    "\n",
    "train_preds = MLE_with_BNB(train_X[:10000], train_y, class_priors, feature_parameters)\n",
    "train_acc = np.mean(train_preds == train_y[:10000])\n",
    "print(train_acc)\n",
    "\n",
    "test_pred = MLE_with_BNB(test_X[:10000], test_y, class_priors, feature_parameters)\n",
    "test_acc = np.mean(test_pred == test_y[:10000])\n",
    "print(test_acc)"
   ]
  }
 ],
 "metadata": {
  "kernelspec": {
   "display_name": "Python 3",
   "language": "python",
   "name": "python3"
  },
  "language_info": {
   "codemirror_mode": {
    "name": "ipython",
    "version": 3
   },
   "file_extension": ".py",
   "mimetype": "text/x-python",
   "name": "python",
   "nbconvert_exporter": "python",
   "pygments_lexer": "ipython3",
   "version": "3.8.8"
  },
  "vscode": {
   "interpreter": {
    "hash": "ac989702ee82cf85834fc904c407af640e06b0902e988e9cd8a067d885b3b790"
   }
  }
 },
 "nbformat": 4,
 "nbformat_minor": 2
}
