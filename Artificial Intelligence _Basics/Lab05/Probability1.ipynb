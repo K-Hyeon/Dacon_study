{
 "cells": [
  {
   "cell_type": "code",
   "execution_count": 9,
   "metadata": {},
   "outputs": [],
   "source": [
    "import numpy as np\n",
    "import random\n",
    "import warnings\n",
    "warnings.filterwarnings(action='ignore')\n",
    "\n",
    "import matplotlib.pyplot as plt\n",
    "\n",
    "lucky_box = np.load('luckybox.npy')\n",
    "unique, count = np.unique(lucky_box, return_counts=True)"
   ]
  },
  {
   "cell_type": "code",
   "execution_count": 2,
   "metadata": {},
   "outputs": [
    {
     "data": {
      "text/plain": [
       "{'0': 0.714285712244898,\n",
       " '1': 2.857142848979592e-09,\n",
       " '2': 0.01428571424489796,\n",
       " '3': 0.042857142734693876,\n",
       " '4': 0.05714285697959184,\n",
       " '5': 0.1714285709387755}"
      ]
     },
     "execution_count": 2,
     "metadata": {},
     "output_type": "execute_result"
    }
   ],
   "source": [
    "gt_probability = {}\n",
    "for n, cnt in zip(unique, count):\n",
    "    gt_probability[str(int(n))] = cnt/np.sum(count)\n",
    "gt_probability"
   ]
  },
  {
   "cell_type": "code",
   "execution_count": 3,
   "metadata": {},
   "outputs": [
    {
     "name": "stdout",
     "output_type": "stream",
     "text": [
      "{'0': 0.714285712244898, '1': 2.857142848979592e-09, '2': 0.01428571424489796, '3': 0.042857142734693876, '4': 0.05714285697959184, '5': 0.1714285709387755}\n",
      "{'0': 0.16666666666666666, '1': 0.16666666666666666, '2': 0.16666666666666666, '3': 0.16666666666666666, '4': 0.16666666666666666, '5': 0.16666666666666666}\n",
      "fail the test\n"
     ]
    }
   ],
   "source": [
    "def check(error):\n",
    "    if error < 0.0001 :\n",
    "        print('pass the test')\n",
    "    else:\n",
    "        print('fail the test')\n",
    "        \n",
    "def eval(my_probability):\n",
    "    error = 0\n",
    "    for key, value in gt_probability.items():\n",
    "        error += np.abs(gt_probability[key]-my_probability[key])\n",
    "    print(gt_probability)\n",
    "    print(my_probability)\n",
    "    # print('error: ', error)\n",
    "    return error\n",
    "    \n",
    "my_probability = {'0': 1/6, '1': 1/6, '2': 1/6, '3': 1/6, '4': 1/6, '5': 1/6}\n",
    "error = eval(my_probability)\n",
    "check(error)"
   ]
  },
  {
   "cell_type": "markdown",
   "metadata": {},
   "source": [
    "### 1번 문제: 전체 탐색을 통한 counting "
   ]
  },
  {
   "cell_type": "code",
   "execution_count": 29,
   "metadata": {},
   "outputs": [],
   "source": [
    "# lucky_box의 각 값들을 count\n",
    "lucky_list = [0 for _ in range(6)]\n",
    "\n",
    "for i in lucky_box:\n",
    "    lucky_list[int(i)] += 1"
   ]
  },
  {
   "cell_type": "code",
   "execution_count": 40,
   "metadata": {},
   "outputs": [
    {
     "name": "stdout",
     "output_type": "stream",
     "text": [
      "350000001\n",
      "350000001\n"
     ]
    }
   ],
   "source": [
    "# 개수 확인\n",
    "count = 0\n",
    "for i in range(6):\n",
    "    coulucky_list[i]\n",
    "    \n",
    "print(count)\n",
    "print(len(lucky_box))"
   ]
  },
  {
   "cell_type": "code",
   "execution_count": 45,
   "metadata": {},
   "outputs": [
    {
     "data": {
      "text/plain": [
       "{'0': 0.714285712244898,\n",
       " '1': 2.857142848979592e-09,\n",
       " '2': 0.01428571424489796,\n",
       " '3': 0.042857142734693876,\n",
       " '4': 0.05714285697959184,\n",
       " '5': 0.1714285709387755}"
      ]
     },
     "execution_count": 45,
     "metadata": {},
     "output_type": "execute_result"
    }
   ],
   "source": [
    "my_probability = {}\n",
    "for i in range(6):\n",
    "    my_probability[str(i)] = lucky_list[i]/len(lucky_box)\n",
    "my_probability"
   ]
  },
  {
   "cell_type": "code",
   "execution_count": 46,
   "metadata": {},
   "outputs": [
    {
     "name": "stdout",
     "output_type": "stream",
     "text": [
      "pass the test\n"
     ]
    }
   ],
   "source": [
    "error = eval(my_probability)\n",
    "check(error)"
   ]
  },
  {
   "cell_type": "markdown",
   "metadata": {},
   "source": [
    "### 2번 문제: random sampling을 통한 counting"
   ]
  },
  {
   "cell_type": "code",
   "execution_count": null,
   "metadata": {},
   "outputs": [],
   "source": [
    "import random"
   ]
  },
  {
   "cell_type": "code",
   "execution_count": 4,
   "metadata": {},
   "outputs": [],
   "source": [
    "def eval(my_probability):\n",
    "    error = 0\n",
    "    for key, value in gt_probability.items():\n",
    "        error += np.abs(gt_probability[key]-my_probability[key])\n",
    "    # print(gt_probability)\n",
    "    # print(my_probability)\n",
    "    print('error: ', error)\n",
    "    return error"
   ]
  },
  {
   "cell_type": "code",
   "execution_count": 69,
   "metadata": {},
   "outputs": [
    {
     "data": {
      "text/plain": [
       "{'0': 0.7142779893877772,\n",
       " '1': 0.0,\n",
       " '2': 0.014281399959196,\n",
       " '3': 0.042856619877552515,\n",
       " '4': 0.05715676269383782,\n",
       " '5': 0.1714272280816365}"
      ]
     },
     "execution_count": 69,
     "metadata": {},
     "output_type": "execute_result"
    }
   ],
   "source": [
    "# lucky_box의 각 값들을 count\n",
    "lucky_list = [0 for _ in range(6)]\n",
    "for i in range(len(lucky_box)):\n",
    "    rand = random.randrange(1, len(lucky_box))\n",
    "    lucky_list[int(lucky_box[rand])] += 1\n",
    "\n",
    "# 확률\n",
    "my_probability = {}\n",
    "for i in range(6):\n",
    "    my_probability[str(i)] = lucky_list[i]/len(lucky_box)\n",
    "my_probability"
   ]
  },
  {
   "cell_type": "code",
   "execution_count": 70,
   "metadata": {},
   "outputs": [
    {
     "name": "stdout",
     "output_type": "stream",
     "text": [
      "error:  2.78114284919722e-05\n",
      "pass the test\n"
     ]
    }
   ],
   "source": [
    "error = eval(my_probability)\n",
    "check(error)"
   ]
  },
  {
   "cell_type": "markdown",
   "metadata": {},
   "source": [
    "### 3번 error analysis"
   ]
  },
  {
   "cell_type": "code",
   "execution_count": 14,
   "metadata": {},
   "outputs": [],
   "source": [
    "def eval(my_probability):\n",
    "    error = 0\n",
    "    for key, value in gt_probability.items():\n",
    "        error += np.abs(gt_probability[key]-my_probability[key])\n",
    "    # print(gt_probability)\n",
    "    # print(my_probability)\n",
    "    #print('error: ', error)\n",
    "    return error"
   ]
  },
  {
   "cell_type": "code",
   "execution_count": 15,
   "metadata": {},
   "outputs": [],
   "source": [
    "# 확률\n",
    "def probability(lucky_list):\n",
    "    my_probability = {}\n",
    "    for i in range(6):\n",
    "        my_probability[str(i)] = lucky_list[i]/len(lucky_box)\n",
    "    return my_probability"
   ]
  },
  {
   "cell_type": "code",
   "execution_count": 22,
   "metadata": {},
   "outputs": [
    {
     "name": "stderr",
     "output_type": "stream",
     "text": [
      "No artists with labels found to put in legend.  Note that artists whose label start with an underscore are ignored when legend() is called with no argument.\n"
     ]
    },
    {
     "data": {
      "image/png": "[encoded data removed]",
      "text/plain": [
       "<Figure size 640x480 with 1 Axes>"
      ]
     },
     "metadata": {},
     "output_type": "display_data"
    }
   ],
   "source": [
    "# Sampling count에 따른 error 변화\n",
    "scatter = []\n",
    "lucky_list = [0 for _ in range(6)]\n",
    "# 시간 관계상 범위를 좁혀서 테스트함.\n",
    "for i in range(10000):\n",
    "    for j in range(i):\n",
    "        rand = random.randrange(1, len(lucky_box))\n",
    "        lucky_list[int(lucky_box[rand])] += 1\n",
    "    my_probability = probability(lucky_list)\n",
    "    scatter.append((i, eval(my_probability)))\n",
    "\n",
    "# x, y 값 추출\n",
    "x_values, y_values = zip(*scatter)\n",
    "\n",
    "# 산점도\n",
    "plt.scatter(x_values, y_values)\n",
    "plt.xlabel('n_sampling')\n",
    "plt.ylabel('error')\n",
    "plt.title('approximate probability error')\n",
    "plt.legend()\n",
    "plt.show()"
   ]
  }
 ],
 "metadata": {
  "interpreter": {
   "hash": "7df67fadbb8f1573ef586722c109f4cb5351f3c79370d5e9aa17bc5ec258154f"
  },
  "kernelspec": {
   "display_name": "Python 3 (ipykernel)",
   "language": "python",
   "name": "python3"
  },
  "language_info": {
   "codemirror_mode": {
    "name": "ipython",
    "version": 3
   },
   "file_extension": ".py",
   "mimetype": "text/x-python",
   "name": "python",
   "nbconvert_exporter": "python",
   "pygments_lexer": "ipython3",
   "version": "3.11.5"
  }
 },
 "nbformat": 4,
 "nbformat_minor": 2
}
